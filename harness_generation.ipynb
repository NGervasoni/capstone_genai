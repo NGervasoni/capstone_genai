{
 "cells": [
  {
   "cell_type": "code",
   "execution_count": 1,
   "id": "8dc1ab77-7bac-4f0c-aae2-df6c3d526f8b",
   "metadata": {},
   "outputs": [
    {
     "name": "stdout",
     "output_type": "stream",
     "text": [
      "sagemaker.config INFO - Not applying SDK defaults from location: /etc/xdg/sagemaker/config.yaml\n",
      "sagemaker.config INFO - Not applying SDK defaults from location: /home/sagemaker-user/.config/sagemaker/config.yaml\n"
     ]
    }
   ],
   "source": [
    "from sagemaker.predictor import retrieve_default\n",
    "endpoint_name = \"jumpstart-dft-llama-codellama-13b-i-20240417-060043\"\n",
    "predictor = retrieve_default(endpoint_name)"
   ]
  },
  {
   "cell_type": "code",
   "execution_count": 57,
   "id": "e0e9f959-119e-4aa6-8493-ce8308c4941b",
   "metadata": {},
   "outputs": [],
   "source": [
    "from utils import get_answer,followup_prompt "
   ]
  },
  {
   "cell_type": "code",
   "execution_count": 17,
   "id": "98aa34b4-adf0-4bab-9743-cd61f43d6ebd",
   "metadata": {},
   "outputs": [],
   "source": [
    "# from https://github.com/mykter/afl-training/tree/main/harness\n",
    "libh = '''\n",
    "#include <unistd.h>\n",
    "// an 'nprintf' implementation - print the first len bytes of data\n",
    "void lib_echo(char *data, ssize_t len);\n",
    "\n",
    "// optimised multiply - returns x*y\n",
    "int  lib_mul(int x, int y);\n",
    "'''\n",
    "libc = '''\n",
    "#include <stdlib.h>\n",
    "#include <stdio.h>\n",
    "#include <string.h>\n",
    "#include <assert.h>\n",
    "\n",
    "#include \"library.h\"\n",
    "\n",
    "void lib_echo(char *data, ssize_t len){\n",
    "\tif(strlen(data) == 0) {\n",
    "\t\treturn;\n",
    "\t}\n",
    "\tchar *buf = calloc(1, len);\n",
    "\tstrncpy(buf, data, len);\n",
    "\tprintf(\"%s\",buf);\n",
    "\tfree(buf);\n",
    "\n",
    "\t// A crash so we can tell the harness is working for lib_echo\n",
    "\tif(data[0] == 'p') {\n",
    "\t\tif(data[1] == 'o') {\n",
    "\t\t\tif(data[2] =='p') {\n",
    "\t\t\t\tif(data[3] == '!') {\n",
    "\t\t\t\t\tassert(0);\n",
    "\t\t\t\t}\n",
    "\t\t\t}\n",
    "\t\t}\n",
    "\t}\n",
    "}\n",
    "\n",
    "int  lib_mul(int x, int y){\n",
    "\tif(x%2 == 0) {\n",
    "\t\treturn y << x;\n",
    "\t} else if (y%2 == 0) {\n",
    "\t\treturn x << y;\n",
    "\t} else if (x == 0) {\n",
    "\t\treturn 0;\n",
    "\t} else if (y == 0) {\n",
    "\t\treturn 0;\n",
    "\t} else {\n",
    "\t\treturn x * y;\n",
    "\t}\n",
    "}\n",
    "'''"
   ]
  },
  {
   "cell_type": "code",
   "execution_count": 20,
   "id": "53ace031-dc45-4202-b2af-3c1685d88a1c",
   "metadata": {},
   "outputs": [],
   "source": [
    "function_name=\"lib_echo\"\n",
    "\n",
    "role = f\"You are a developer. you need to write a libFuzzer target for the {function_name} function of your c library.\"\n",
    "\n",
    "\n",
    "template= '''\n",
    "#include <stdint.h>\n",
    "#include <stdlib.h>\n",
    "'''+'''\n",
    "// Step 2 include custom and standard headers\n",
    "'''+'''\n",
    "<FILL>\n",
    "\n",
    "extern \"C\" int LLVMFuzzerTestOneInput(const uint8_t *Data, size_t Size) {\n",
    "'''+f'''\n",
    "// Step 3 call to the {function_name} function\n",
    "<FILL>;\n",
    "''' +'''\n",
    "  return 0;\n",
    "}\n",
    "'''\n",
    "graph='}'\n",
    "prompt = f\"\"\"\n",
    "{role}\n",
    "\n",
    "Work step by step:\n",
    "1. Identify and analyze {function_name} in the library source code: which headers and parameters does it need to be properly executed?\n",
    "2. Fill the template with necessary headers\n",
    "3. fill the template LLVMFuzzerTestOneInput function with a call to {function_name}, such that {function_name} can be properly fuzz\n",
    "Answer should be code only, no explanation.\n",
    "\n",
    "## Library:\n",
    "library.c\n",
    "```c\n",
    "{libc}\n",
    "```\n",
    "library.h\n",
    "```c\n",
    "{libh}\n",
    "```\n",
    "## End of library\n",
    "\n",
    "## template:\n",
    "```c\n",
    "{template}\n",
    "```\n",
    "## End of template:\n",
    " \"\"\"\n",
    "prompt = '[INST]' + prompt + '[/INST]'"
   ]
  },
  {
   "cell_type": "code",
   "execution_count": 3,
   "id": "68d35e95-d463-4ce9-9451-ab0a7682d3e2",
   "metadata": {},
   "outputs": [
    {
     "name": "stdout",
     "output_type": "stream",
     "text": [
      "[{'generated_text': '\\n    \"\"\"\\n    Ping a host with exponential backoff.\\n\\n    :param host: The host to ping.\\n    :return: True if the host is reachable, False otherwise.\\n    \"\"\"\\n    backoff_time = 1\\n    while True:\\n        try:\\n            socket.create_connection((host, 80), timeout=1).close()\\n            return True\\n        except OSError:\\n            pass\\n        backoff_time *= 2\\n        if backoff_time > 10:\\n            backoff_time = 10\\n        print(f\"Ping failed, retrying in {backoff_time} seconds...\")\\n        time.sleep(backoff_time)\\n'}]\n"
     ]
    }
   ],
   "source": [
    "payload = {\n",
    "    \"inputs\": \"import socket\\n\\ndef ping_exponential_backoff(host: str):\",\n",
    "    \"parameters\": {\n",
    "        \"max_new_tokens\": 256,\n",
    "        \"top_p\": 0.9,\n",
    "        \"temperature\": 0.2\n",
    "    }\n",
    "}\n",
    "response = predictor.predict(payload)\n",
    "print(response)"
   ]
  },
  {
   "cell_type": "code",
   "execution_count": 5,
   "id": "438410ca-168f-4a3b-9abc-95b55c791ff9",
   "metadata": {},
   "outputs": [
    {
     "name": "stdout",
     "output_type": "stream",
     "text": [
      "\n",
      "    \"\"\"\n",
      "    Ping a host with exponential backoff.\n",
      "\n",
      "    :param host: The host to ping.\n",
      "    :return: True if the host is reachable, False otherwise.\n",
      "    \"\"\"\n",
      "    backoff_time = 1\n",
      "    while True:\n",
      "        try:\n",
      "            socket.create_connection((host, 80), timeout=1).close()\n",
      "            return True\n",
      "        except OSError:\n",
      "            pass\n",
      "        backoff_time *= 2\n",
      "        if backoff_time > 10:\n",
      "            backoff_time = 10\n",
      "        print(f\"Ping failed, retrying in {backoff_time} seconds...\")\n",
      "        time.sleep(backoff_time)\n",
      "\n"
     ]
    }
   ],
   "source": [
    "print(response[0]['generated_text'])"
   ]
  },
  {
   "cell_type": "code",
   "execution_count": 23,
   "id": "9a55a8da-3428-48e7-9752-1ce0493c5fb9",
   "metadata": {},
   "outputs": [
    {
     "name": "stdout",
     "output_type": "stream",
     "text": [
      "========= PAYLOAD =========\n",
      "payload = {\n",
      "    \"inputs\": \"[INST]\\nYou are a developer. you need to write a libFuzzer target for the lib_echo function of your c library.\\n\\nWork step by step:\\n1. Identify and analyze lib_echo in the library source code: which headers and parameters does it need to be properly executed?\\n2. Fill the template with necessary headers\\n3. fill the template LLVMFuzzerTestOneInput function with a call to lib_echo, such that lib_echo can be properly fuzz\\nAnswer should be code only, no explanation.\\n\\n## Library:\\nlibrary.c\\n```c\\n\\n#include <stdlib.h>\\n#include <stdio.h>\\n#include <string.h>\\n#include <assert.h>\\n\\n#include \\\"library.h\\\"\\n\\nvoid lib_echo(char *data, ssize_t len){\\n\\tif(strlen(data) == 0) {\\n\\t\\treturn;\\n\\t}\\n\\tchar *buf = calloc(1, len);\\n\\tstrncpy(buf, data, len);\\n\\tprintf(\\\"%s\\\",buf);\\n\\tfree(buf);\\n\\n\\t// A crash so we can tell the harness is working for lib_echo\\n\\tif(data[0] == 'p') {\\n\\t\\tif(data[1] == 'o') {\\n\\t\\t\\tif(data[2] =='p') {\\n\\t\\t\\t\\tif(data[3] == '!') {\\n\\t\\t\\t\\t\\tassert(0);\\n\\t\\t\\t\\t}\\n\\t\\t\\t}\\n\\t\\t}\\n\\t}\\n}\\n\\nint  lib_mul(int x, int y){\\n\\tif(x%2 == 0) {\\n\\t\\treturn y << x;\\n\\t} else if (y%2 == 0) {\\n\\t\\treturn x << y;\\n\\t} else if (x == 0) {\\n\\t\\treturn 0;\\n\\t} else if (y == 0) {\\n\\t\\treturn 0;\\n\\t} else {\\n\\t\\treturn x * y;\\n\\t}\\n}\\n\\n```\\nlibrary.h\\n```c\\n\\n#include <unistd.h>\\n// an 'nprintf' implementation - print the first len bytes of data\\nvoid lib_echo(char *data, ssize_t len);\\n\\n// optimised multiply - returns x*y\\nint  lib_mul(int x, int y);\\n\\n```\\n## End of library\\n\\n## template:\\n```c\\n\\n#include <stdint.h>\\n#include <stdlib.h>\\n\\n// Step 2 include custom and standard headers\\n\\n<FILL>\\n\\nextern \\\"C\\\" int LLVMFuzzerTestOneInput(const uint8_t *Data, size_t Size) {\\n\\n// Step 3 call to the lib_echo function\\n<FILL>;\\n\\n  return 0;\\n}\\n\\n```\\n## End of template:\\n [/INST]\",\n",
      "    \"parameters\": {\n",
      "        \"max_new_tokens\": 256,\n",
      "        \"temperature\": 0.2,\n",
      "        \"top_p\": 0.9\n",
      "    }\n",
      "}\n",
      "========= ANSWER =========\n",
      "  ```\n",
      "#include <stdint.h>\n",
      "#include <stdlib.h>\n",
      "#include <string.h>\n",
      "#include \"library.h\"\n",
      "\n",
      "extern \"C\" int LLVMFuzzerTestOneInput(const uint8_t *Data, size_t Size) {\n",
      "    char *data = (char *)Data;\n",
      "    lib_echo(data, Size);\n",
      "    return 0;\n",
      "}\n",
      "```\n"
     ]
    }
   ],
   "source": [
    "r = get_answer(prompt)"
   ]
  },
  {
   "cell_type": "code",
   "execution_count": 26,
   "id": "a5611ecf-7420-45b0-bfd5-5838cecf8874",
   "metadata": {},
   "outputs": [
    {
     "name": "stdout",
     "output_type": "stream",
     "text": [
      "  ```\n",
      "#include <stdint.h>\n",
      "#include <stdlib.h>\n",
      "#include <string.h>\n",
      "#include \"library.h\"\n",
      "\n",
      "extern \"C\" int LLVMFuzzerTestOneInput(const uint8_t *Data, size_t Size) {\n",
      "    char *data = (char *)Data;\n",
      "    lib_echo(data, Size);\n",
      "    return 0;\n",
      "}\n",
      "```\n"
     ]
    }
   ],
   "source": [
    "print(r[0]['generated_text'])"
   ]
  },
  {
   "cell_type": "code",
   "execution_count": 41,
   "id": "b2103011-0ee4-40d7-9606-72c4bb3ca0fc",
   "metadata": {},
   "outputs": [],
   "source": [
    "lines = r[0]['generated_text'].split('\\n')\n",
    "start_idx = next(i for i, line in enumerate(lines) if '```' in line) + 1\n",
    "end_idx = next(i for i, line in enumerate(lines) if i > start_idx and '```' in line)\n",
    "c_code = '\\n'.join(lines[start_idx:end_idx])\n",
    "with open('file.c', 'w') as file:\n",
    "    file.write(c_code)\n"
   ]
  },
  {
   "cell_type": "code",
   "execution_count": 53,
   "id": "3f298716-e172-4677-9d2c-5fd87484883f",
   "metadata": {},
   "outputs": [
    {
     "name": "stdout",
     "output_type": "stream",
     "text": [
      "Compilation failed.\n",
      "Errors: /usr/bin/ld: /tmp/ccKVPC42.o: in function `LLVMFuzzerTestOneInput':\n",
      "/home/sagemaker-user/DemoNotebooks/file.c:8: undefined reference to `lib_echo'\n",
      "collect2: error: ld returned 1 exit status\n",
      "\n"
     ]
    }
   ],
   "source": [
    "import subprocess\n",
    "\n",
    "compile_command = ['afl-gcc-fast', '-fsanitize=fuzzer', 'file.c', '-o', 'file']\n",
    "result = subprocess.run(compile_command, stdout=subprocess.PIPE, stderr=subprocess.PIPE, text=True)\n",
    "\n",
    "if result.returncode == 0:\n",
    "    print(\"Compilation successful.\")\n",
    "else:\n",
    "    print(\"Compilation failed.\")\n",
    "    print(\"Errors:\", result.stderr)\n",
    "    with open('error.log', 'w') as file:\n",
    "        file.write(result.stderr)"
   ]
  },
  {
   "cell_type": "code",
   "execution_count": 54,
   "id": "cb42d235-ee2d-4ba4-b49b-cae478da3fbb",
   "metadata": {},
   "outputs": [],
   "source": []
  },
  {
   "cell_type": "code",
   "execution_count": 44,
   "id": "722ab1bc-0d40-4c78-a899-225e60f3a23b",
   "metadata": {},
   "outputs": [],
   "source": [
    "with open('error.log', 'r') as file:\n",
    "    content = file.read()\n",
    "fix_compilation_prompt = followup_prompt(prompt,  r[0]['generated_text'], \"can you regenerate the previous code to fix the following error:\\n\" + content)"
   ]
  },
  {
   "cell_type": "code",
   "execution_count": 48,
   "id": "a1d4f4c0-6400-468e-ada6-eb931be3c5c1",
   "metadata": {},
   "outputs": [
    {
     "name": "stdout",
     "output_type": "stream",
     "text": [
      "========= PAYLOAD =========\n",
      "payload = {\n",
      "    \"inputs\": \"<s>[INST]\\nYou are a developer. you need to write a libFuzzer target for the lib_echo function of your c library.\\n\\nWork step by step:\\n1. Identify and analyze lib_echo in the library source code: which headers and parameters does it need to be properly executed?\\n2. Fill the template with necessary headers\\n3. fill the template LLVMFuzzerTestOneInput function with a call to lib_echo, such that lib_echo can be properly fuzz\\nAnswer should be code only, no explanation.\\n\\n## Library:\\nlibrary.c\\n```c\\n\\n#include <stdlib.h>\\n#include <stdio.h>\\n#include <string.h>\\n#include <assert.h>\\n\\n#include \\\"library.h\\\"\\n\\nvoid lib_echo(char *data, ssize_t len){\\n\\tif(strlen(data) == 0) {\\n\\t\\treturn;\\n\\t}\\n\\tchar *buf = calloc(1, len);\\n\\tstrncpy(buf, data, len);\\n\\tprintf(\\\"%s\\\",buf);\\n\\tfree(buf);\\n\\n\\t// A crash so we can tell the harness is working for lib_echo\\n\\tif(data[0] == 'p') {\\n\\t\\tif(data[1] == 'o') {\\n\\t\\t\\tif(data[2] =='p') {\\n\\t\\t\\t\\tif(data[3] == '!') {\\n\\t\\t\\t\\t\\tassert(0);\\n\\t\\t\\t\\t}\\n\\t\\t\\t}\\n\\t\\t}\\n\\t}\\n}\\n\\nint  lib_mul(int x, int y){\\n\\tif(x%2 == 0) {\\n\\t\\treturn y << x;\\n\\t} else if (y%2 == 0) {\\n\\t\\treturn x << y;\\n\\t} else if (x == 0) {\\n\\t\\treturn 0;\\n\\t} else if (y == 0) {\\n\\t\\treturn 0;\\n\\t} else {\\n\\t\\treturn x * y;\\n\\t}\\n}\\n\\n```\\nlibrary.h\\n```c\\n\\n#include <unistd.h>\\n// an 'nprintf' implementation - print the first len bytes of data\\nvoid lib_echo(char *data, ssize_t len);\\n\\n// optimised multiply - returns x*y\\nint  lib_mul(int x, int y);\\n\\n```\\n## End of library\\n\\n## template:\\n```c\\n\\n#include <stdint.h>\\n#include <stdlib.h>\\n\\n// Step 2 include custom and standard headers\\n\\n<FILL>\\n\\nextern \\\"C\\\" int LLVMFuzzerTestOneInput(const uint8_t *Data, size_t Size) {\\n\\n// Step 3 call to the lib_echo function\\n<FILL>;\\n\\n  return 0;\\n}\\n\\n```\\n## End of template:\\n [/INST]\\n  ```\\n#include <stdint.h>\\n#include <stdlib.h>\\n#include <string.h>\\n#include \\\"library.h\\\"\\n\\nextern \\\"C\\\" int LLVMFuzzerTestOneInput(const uint8_t *Data, size_t Size) {\\n    char *data = (char *)Data;\\n    lib_echo(data, Size);\\n    return 0;\\n}\\n```</s><s>[INST]\\ncan you regenerate the previous code to fix the following error:\\nfile.c:6:8: error: expected identifier or \\u2018(\\u2019 before string constant\\n    6 | extern \\\"C\\\" int LLVMFuzzerTestOneInput(const uint8_t *Data, size_t Size) {\\n      |        ^~~\\n[/INST]\",\n",
      "    \"parameters\": {\n",
      "        \"max_new_tokens\": 256,\n",
      "        \"temperature\": 0.2,\n",
      "        \"top_p\": 0.9\n",
      "    }\n",
      "}\n",
      "========= ANSWER =========\n",
      "  Certainly! Here's the corrected code:\n",
      "```\n",
      "#include <stdint.h>\n",
      "#include <stdlib.h>\n",
      "#include <string.h>\n",
      "\n",
      "extern \"C\" int LLVMFuzzerTestOneInput(const uint8_t *Data, size_t Size) {\n",
      "    char *data = (char *)Data;\n",
      "    lib_echo(data, Size);\n",
      "    return 0;\n",
      "}\n",
      "```\n",
      "The error was caused by the missing `extern \"C\"` declaration before the function definition. I've added it back in, and the code should now compile without errors.\n"
     ]
    }
   ],
   "source": [
    "r = get_answer(fix_compilation_prompt)"
   ]
  },
  {
   "cell_type": "code",
   "execution_count": 46,
   "id": "e75440f5-b872-4e21-9ad4-38f45eb3cd0e",
   "metadata": {},
   "outputs": [
    {
     "data": {
      "text/plain": [
       "'<s>[INST]\\nYou are a developer. you need to write a libFuzzer target for the lib_echo function of your c library.\\n\\nWork step by step:\\n1. Identify and analyze lib_echo in the library source code: which headers and parameters does it need to be properly executed?\\n2. Fill the template with necessary headers\\n3. fill the template LLVMFuzzerTestOneInput function with a call to lib_echo, such that lib_echo can be properly fuzz\\nAnswer should be code only, no explanation.\\n\\n## Library:\\nlibrary.c\\n```c\\n\\n#include <stdlib.h>\\n#include <stdio.h>\\n#include <string.h>\\n#include <assert.h>\\n\\n#include \"library.h\"\\n\\nvoid lib_echo(char *data, ssize_t len){\\n\\tif(strlen(data) == 0) {\\n\\t\\treturn;\\n\\t}\\n\\tchar *buf = calloc(1, len);\\n\\tstrncpy(buf, data, len);\\n\\tprintf(\"%s\",buf);\\n\\tfree(buf);\\n\\n\\t// A crash so we can tell the harness is working for lib_echo\\n\\tif(data[0] == \\'p\\') {\\n\\t\\tif(data[1] == \\'o\\') {\\n\\t\\t\\tif(data[2] ==\\'p\\') {\\n\\t\\t\\t\\tif(data[3] == \\'!\\') {\\n\\t\\t\\t\\t\\tassert(0);\\n\\t\\t\\t\\t}\\n\\t\\t\\t}\\n\\t\\t}\\n\\t}\\n}\\n\\nint  lib_mul(int x, int y){\\n\\tif(x%2 == 0) {\\n\\t\\treturn y << x;\\n\\t} else if (y%2 == 0) {\\n\\t\\treturn x << y;\\n\\t} else if (x == 0) {\\n\\t\\treturn 0;\\n\\t} else if (y == 0) {\\n\\t\\treturn 0;\\n\\t} else {\\n\\t\\treturn x * y;\\n\\t}\\n}\\n\\n```\\nlibrary.h\\n```c\\n\\n#include <unistd.h>\\n// an \\'nprintf\\' implementation - print the first len bytes of data\\nvoid lib_echo(char *data, ssize_t len);\\n\\n// optimised multiply - returns x*y\\nint  lib_mul(int x, int y);\\n\\n```\\n## End of library\\n\\n## template:\\n```c\\n\\n#include <stdint.h>\\n#include <stdlib.h>\\n\\n// Step 2 include custom and standard headers\\n\\n<FILL>\\n\\nextern \"C\" int LLVMFuzzerTestOneInput(const uint8_t *Data, size_t Size) {\\n\\n// Step 3 call to the lib_echo function\\n<FILL>;\\n\\n  return 0;\\n}\\n\\n```\\n## End of template:\\n [/INST]\\n  ```\\n#include <stdint.h>\\n#include <stdlib.h>\\n#include <string.h>\\n#include \"library.h\"\\n\\nextern \"C\" int LLVMFuzzerTestOneInput(const uint8_t *Data, size_t Size) {\\n    char *data = (char *)Data;\\n    lib_echo(data, Size);\\n    return 0;\\n}\\n```</s><s>[INST]\\ncan you regenerate the previous code to fix the following error:\\nfile.c:6:8: error: expected identifier or ‘(’ before string constant\\n    6 | extern \"C\" int LLVMFuzzerTestOneInput(const uint8_t *Data, size_t Size) {\\n      |        ^~~\\n[/INST]'"
      ]
     },
     "execution_count": 46,
     "metadata": {},
     "output_type": "execute_result"
    }
   ],
   "source": [
    "fix_compilation_prompt"
   ]
  },
  {
   "cell_type": "code",
   "execution_count": null,
   "id": "6b566834-f16d-438b-9384-11f89da9921e",
   "metadata": {},
   "outputs": [],
   "source": [
    "def add prompt"
   ]
  }
 ],
 "metadata": {
  "kernelspec": {
   "display_name": "Python 3 (ipykernel)",
   "language": "python",
   "name": "python3"
  },
  "language_info": {
   "codemirror_mode": {
    "name": "ipython",
    "version": 3
   },
   "file_extension": ".py",
   "mimetype": "text/x-python",
   "name": "python",
   "nbconvert_exporter": "python",
   "pygments_lexer": "ipython3",
   "version": "3.10.14"
  }
 },
 "nbformat": 4,
 "nbformat_minor": 5
}
