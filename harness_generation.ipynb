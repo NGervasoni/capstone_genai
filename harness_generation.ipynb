{
 "cells": [
  {
   "cell_type": "code",
   "execution_count": 25,
   "id": "e0e9f959-119e-4aa6-8493-ce8308c4941b",
   "metadata": {},
   "outputs": [],
   "source": [
    "from utils import get_answer, followup_prompt"
   ]
  },
  {
   "cell_type": "code",
   "execution_count": 37,
   "id": "1bba2849-fe69-4fc2-ab41-e141a57a253e",
   "metadata": {},
   "outputs": [],
   "source": [
    "function_name=\"lib_echo\"\n",
    "IS_C_CODE= True\n",
    "lib_files = ['/home/sagemaker-user/afl-training/harness/library.c','/home/sagemaker-user/afl-training/harness/library.h']\n",
    "HARNESS = 'harness.c'"
   ]
  },
  {
   "cell_type": "code",
   "execution_count": 27,
   "id": "98aa34b4-adf0-4bab-9743-cd61f43d6ebd",
   "metadata": {},
   "outputs": [],
   "source": [
    "lib_for_prompt = ''\n",
    "\n",
    "code_md = '```c' if IS_C_CODE else '```c++'\n",
    "for l in lib_files:\n",
    "    with open(l) as file:\n",
    "        content = f\"\\n{l}\\n{code_md}\\n{file.read()}\\n```\\n\"\n",
    "    lib_for_prompt = lib_for_prompt + content\n",
    "lib_for_prompt=f'''\n",
    "## Library:\n",
    "{lib_for_prompt}\n",
    "## End of library\n",
    "'''"
   ]
  },
  {
   "cell_type": "code",
   "execution_count": 29,
   "id": "53ace031-dc45-4202-b2af-3c1685d88a1c",
   "metadata": {},
   "outputs": [],
   "source": [
    "\n",
    "role = f\"You are a developer. you need to write a libFuzzer target for the {function_name} function of your c library.\"\n",
    "\n",
    "fill_c = '''\n",
    "<FILL>\n",
    "\n",
    "int LLVMFuzzerTestOneInput(const uint8_t *Data, size_t Size) {\n",
    "'''\n",
    "fill_cpp = '''\n",
    "<FILL>\n",
    "\n",
    "extern \"C\" int LLVMFuzzerTestOneInput(const uint8_t *Data, size_t Size) {\n",
    "'''\n",
    "template= '''\n",
    "#include <stdint.h>\n",
    "#include <stdlib.h>\n",
    "'''+'''\n",
    "// Step 2 include custom and standard headers\n",
    "'''+ fill_c if IS_C_CODE else fill_c_cp+f'''\n",
    "// Step 3 call to the {function_name} function\n",
    "<FILL>;\n",
    "''' +'''\n",
    "  return 0;\n",
    "}\n",
    "'''\n",
    "graph='}'\n",
    "prompt = f\"\"\"\n",
    "{role}\n",
    "\n",
    "Work step by step:\n",
    "1. Identify and analyze {function_name} in the library source code: which headers and parameters does it need to be properly executed?\n",
    "2. Fill the template with necessary headers\n",
    "3. fill the template LLVMFuzzerTestOneInput function with a call to {function_name}, such that {function_name} can be properly fuzz\n",
    "Answer should be code only, no explanation.\n",
    "\n",
    "## Library:\n",
    "library.c\n",
    "```c\n",
    "{libc}\n",
    "```\n",
    "library.h\n",
    "```c\n",
    "{libh}\n",
    "```\n",
    "## End of library\n",
    "\n",
    "## template:\n",
    "```c\n",
    "{template}\n",
    "```\n",
    "## End of template:\n",
    " \"\"\"\n",
    "prompt = '[INST]' + prompt + '[/INST]'"
   ]
  },
  {
   "cell_type": "code",
   "execution_count": 30,
   "id": "68d35e95-d463-4ce9-9451-ab0a7682d3e2",
   "metadata": {},
   "outputs": [],
   "source": [
    "# payload = {\n",
    "#     \"inputs\": \"import socket\\n\\ndef ping_exponential_backoff(host: str):\",\n",
    "#     \"parameters\": {\n",
    "#         \"max_new_tokens\": 256,\n",
    "#         \"top_p\": 0.9,\n",
    "#         \"temperature\": 0.2\n",
    "#     }\n",
    "# }\n",
    "# response = predictor.predict(payload)\n",
    "# print(response)"
   ]
  },
  {
   "cell_type": "code",
   "execution_count": 31,
   "id": "438410ca-168f-4a3b-9abc-95b55c791ff9",
   "metadata": {},
   "outputs": [],
   "source": [
    "# print(response[0]['generated_text'])"
   ]
  },
  {
   "cell_type": "code",
   "execution_count": 32,
   "id": "9a55a8da-3428-48e7-9752-1ce0493c5fb9",
   "metadata": {},
   "outputs": [
    {
     "name": "stdout",
     "output_type": "stream",
     "text": [
      "========= PAYLOAD =========\n",
      "payload = {\n",
      "    \"inputs\": \"[INST]\\nYou are a developer. you need to write a libFuzzer target for the lib_echo function of your c library.\\n\\nWork step by step:\\n1. Identify and analyze lib_echo in the library source code: which headers and parameters does it need to be properly executed?\\n2. Fill the template with necessary headers\\n3. fill the template LLVMFuzzerTestOneInput function with a call to lib_echo, such that lib_echo can be properly fuzz\\nAnswer should be code only, no explanation.\\n\\n## Library:\\nlibrary.c\\n```c\\n#include <stdlib.h>\\n#include <stdio.h>\\n#include <string.h>\\n#include <assert.h>\\n\\n#include \\\"library.h\\\"\\n\\nvoid lib_echo(char *data, ssize_t len){\\n\\tif(strlen(data) == 0) {\\n\\t\\treturn;\\n\\t}\\n\\tchar *buf = calloc(1, len);\\n\\tstrncpy(buf, data, len);\\n\\tprintf(\\\"%s\\\",buf);\\n\\tfree(buf);\\n\\n\\t// A crash so we can tell the harness is working for lib_echo\\n\\tif(data[0] == 'p') {\\n\\t\\tif(data[1] == 'o') {\\n\\t\\t\\tif(data[2] =='p') {\\n\\t\\t\\t\\tif(data[3] == '!') {\\n\\t\\t\\t\\t\\tassert(0);\\n\\t\\t\\t\\t}\\n\\t\\t\\t}\\n\\t\\t}\\n\\t}\\n}\\n\\nint  lib_mul(int x, int y){\\n\\tif(x%2 == 0) {\\n\\t\\treturn y << x;\\n\\t} else if (y%2 == 0) {\\n\\t\\treturn x << y;\\n\\t} else if (x == 0) {\\n\\t\\treturn 0;\\n\\t} else if (y == 0) {\\n\\t\\treturn 0;\\n\\t} else {\\n\\t\\treturn x * y;\\n\\t}\\n}\\n\\n```\\nlibrary.h\\n```c\\n#include <unistd.h>\\n// an 'nprintf' implementation - print the first len bytes of data\\nvoid lib_echo(char *data, ssize_t len);\\n\\n// optimised multiply - returns x*y\\nint  lib_mul(int x, int y);\\n\\n```\\n## End of library\\n\\n## template:\\n```c\\n\\n#include <stdint.h>\\n#include <stdlib.h>\\n\\n// Step 2 include custom and standard headers\\n\\n<FILL>\\n\\nint LLVMFuzzerTestOneInput(const uint8_t *Data, size_t Size) {\\n\\n```\\n## End of template:\\n [/INST]\",\n",
      "    \"parameters\": {\n",
      "        \"max_new_tokens\": 256,\n",
      "        \"temperature\": 0.2,\n",
      "        \"top_p\": 0.9\n",
      "    }\n",
      "}\n",
      "========= ANSWER =========\n",
      "  ```\n",
      "#include <stdint.h>\n",
      "#include <stdlib.h>\n",
      "#include \"library.h\"\n",
      "\n",
      "int LLVMFuzzerTestOneInput(const uint8_t *Data, size_t Size) {\n",
      "    char *data = (char *)Data;\n",
      "    lib_echo(data, Size);\n",
      "    return 0;\n",
      "}\n",
      "```\n"
     ]
    }
   ],
   "source": [
    "r = get_answer(prompt)"
   ]
  },
  {
   "cell_type": "code",
   "execution_count": 33,
   "id": "a5611ecf-7420-45b0-bfd5-5838cecf8874",
   "metadata": {},
   "outputs": [
    {
     "name": "stdout",
     "output_type": "stream",
     "text": [
      "  ```\n",
      "#include <stdint.h>\n",
      "#include <stdlib.h>\n",
      "#include \"library.h\"\n",
      "\n",
      "int LLVMFuzzerTestOneInput(const uint8_t *Data, size_t Size) {\n",
      "    char *data = (char *)Data;\n",
      "    lib_echo(data, Size);\n",
      "    return 0;\n",
      "}\n",
      "```\n"
     ]
    }
   ],
   "source": [
    "print(r[0]['generated_text'])"
   ]
  },
  {
   "cell_type": "code",
   "execution_count": 54,
   "id": "b2103011-0ee4-40d7-9606-72c4bb3ca0fc",
   "metadata": {},
   "outputs": [],
   "source": [
    "\n",
    "def extract_and_save_harness(llm_res):\n",
    "    lines = llm_res[0]['generated_text'].split('\\n')\n",
    "    start_idx = next(i for i, line in enumerate(lines) if '```' in line) + 1\n",
    "    end_idx = next(i for i, line in enumerate(lines) if i > start_idx and '```' in line)\n",
    "    c_code = '\\n'.join(lines[start_idx:end_idx])\n",
    "    with open(HARNESS, 'w') as file:\n",
    "        file.write(c_code)"
   ]
  },
  {
   "cell_type": "code",
   "execution_count": 71,
   "id": "3f298716-e172-4677-9d2c-5fd87484883f",
   "metadata": {},
   "outputs": [],
   "source": [
    "import subprocess\n",
    "\n",
    "compile_command = ['afl-gcc-fast', '-fsanitize=fuzzer', HARNESS, 'library.c', '-o', 'harness']\n",
    "\n",
    "def compile(compile_command):\n",
    "    result = subprocess.run(compile_command, stdout=subprocess.PIPE, stderr=subprocess.PIPE, text=True)\n",
    "    if result.returncode == 0:\n",
    "        print(\"Compilation successful.\")\n",
    "        return True, \"\"\n",
    "    else:\n",
    "        print(\"Compilation failed.\")\n",
    "        print(\"Errors:\", result.stderr)\n",
    "        # with open('error.log', 'w') as file:\n",
    "        #     file.write(result.stderr)\n",
    "        return False, result.stderr\n",
    "\n",
    "def run_seed():\n",
    "    result = subprocess.run([f'./harness', 'seed/seed'], stdout=subprocess.PIPE, stderr=subprocess.PIPE, text=True)\n",
    "    if result.returncode == 0:\n",
    "        return True, \"\"\n",
    "    else:\n",
    "        print(\"Errors:\", result.stderr)\n",
    "        return False, result.stderr"
   ]
  },
  {
   "cell_type": "code",
   "execution_count": 72,
   "id": "cb42d235-ee2d-4ba4-b49b-cae478da3fbb",
   "metadata": {
    "scrolled": true
   },
   "outputs": [
    {
     "name": "stdout",
     "output_type": "stream",
     "text": [
      "tentatives=10\n",
      "Compilation successful.\n"
     ]
    }
   ],
   "source": [
    "# make sure that harness is compilable\n",
    "tentatives = 10\n",
    "prev_prompt = prompt\n",
    "prev_res =  r[0]['generated_text']\n",
    "\n",
    "# compile_command = ['afl-gcc-fast', '-fsanitize=fuzzer', HARNESS, 'library.c', '-o', 'file']\n",
    "\n",
    "\n",
    "while tentatives:\n",
    "    print(f\"{tentatives=}\")\n",
    "    tentatives = tentatives -1\n",
    "    compile_res = compile(compile_command)\n",
    "    if compile_res[0]:\n",
    "        run_res = run_seed()\n",
    "        if run_res[0]:\n",
    "            break\n",
    "        else:\n",
    "            print(f\"{run_res[1]=}\")\n",
    "            prev_prompt = followup_prompt(prev_prompt, prev_res, \"The generated code when run with input AAAA is crashing with this error\\n\" + run_res[1] + '\\ncan you regenerate the previous code to fix the issue?')\n",
    "            prev_res = get_answer(prev_prompt)\n",
    "            extract_and_save_harness(prev_res)\n",
    "    else:\n",
    "        print(f\"{compile_res[1]=}\")\n",
    "        prev_prompt = followup_prompt(prev_prompt, prev_res, \"can you regenerate the previous code to fix the following compilation error:\\n\" + compile_res[1])\n",
    "        prev_res = get_answer(prev_prompt)\n",
    "        extract_and_save_harness(prev_res)\n",
    "        # break"
   ]
  },
  {
   "cell_type": "code",
   "execution_count": null,
   "id": "afd98306-90f7-4053-bde8-163c2657cf12",
   "metadata": {},
   "outputs": [],
   "source": [
    "# checking that does not crash on seed\n",
    "tentatives = 10\n",
    "\n",
    "while tentatives:\n",
    "    print(f\"{tentatives=}\")\n",
    "    tentatives = tentatives -1\n",
    "    exec_res = compile(compile_command)\n",
    "    if compile_res[0]:\n",
    "        break\n",
    "    else:\n",
    "        print(f\"{compile_res[1]=}\")\n",
    "        prev_prompt = followup_prompt(prev_prompt, prev_res, \"can you regenerate the previous code to fix the following error:\\n\" + compile_res[1])\n",
    "        prev_res = get_answer(prev_prompt)\n",
    "        extract_and_save_harness(prev_res)\n",
    "        # break"
   ]
  },
  {
   "cell_type": "code",
   "execution_count": 44,
   "id": "722ab1bc-0d40-4c78-a899-225e60f3a23b",
   "metadata": {},
   "outputs": [],
   "source": [
    "# with open('error.log', 'r') as file:\n",
    "#     content = file.read()\n",
    "# fix_compilation_prompt = followup_prompt(prompt,  r[0]['generated_text'], \"can you regenerate the previous code to fix the following error:\\n\" + content)"
   ]
  },
  {
   "cell_type": "code",
   "execution_count": 56,
   "id": "a1d4f4c0-6400-468e-ada6-eb931be3c5c1",
   "metadata": {
    "scrolled": true
   },
   "outputs": [],
   "source": [
    "# r = get_answer(fix_compilation_prompt)"
   ]
  },
  {
   "cell_type": "code",
   "execution_count": 46,
   "id": "e75440f5-b872-4e21-9ad4-38f45eb3cd0e",
   "metadata": {},
   "outputs": [
    {
     "data": {
      "text/plain": [
       "'<s>[INST]\\nYou are a developer. you need to write a libFuzzer target for the lib_echo function of your c library.\\n\\nWork step by step:\\n1. Identify and analyze lib_echo in the library source code: which headers and parameters does it need to be properly executed?\\n2. Fill the template with necessary headers\\n3. fill the template LLVMFuzzerTestOneInput function with a call to lib_echo, such that lib_echo can be properly fuzz\\nAnswer should be code only, no explanation.\\n\\n## Library:\\nlibrary.c\\n```c\\n\\n#include <stdlib.h>\\n#include <stdio.h>\\n#include <string.h>\\n#include <assert.h>\\n\\n#include \"library.h\"\\n\\nvoid lib_echo(char *data, ssize_t len){\\n\\tif(strlen(data) == 0) {\\n\\t\\treturn;\\n\\t}\\n\\tchar *buf = calloc(1, len);\\n\\tstrncpy(buf, data, len);\\n\\tprintf(\"%s\",buf);\\n\\tfree(buf);\\n\\n\\t// A crash so we can tell the harness is working for lib_echo\\n\\tif(data[0] == \\'p\\') {\\n\\t\\tif(data[1] == \\'o\\') {\\n\\t\\t\\tif(data[2] ==\\'p\\') {\\n\\t\\t\\t\\tif(data[3] == \\'!\\') {\\n\\t\\t\\t\\t\\tassert(0);\\n\\t\\t\\t\\t}\\n\\t\\t\\t}\\n\\t\\t}\\n\\t}\\n}\\n\\nint  lib_mul(int x, int y){\\n\\tif(x%2 == 0) {\\n\\t\\treturn y << x;\\n\\t} else if (y%2 == 0) {\\n\\t\\treturn x << y;\\n\\t} else if (x == 0) {\\n\\t\\treturn 0;\\n\\t} else if (y == 0) {\\n\\t\\treturn 0;\\n\\t} else {\\n\\t\\treturn x * y;\\n\\t}\\n}\\n\\n```\\nlibrary.h\\n```c\\n\\n#include <unistd.h>\\n// an \\'nprintf\\' implementation - print the first len bytes of data\\nvoid lib_echo(char *data, ssize_t len);\\n\\n// optimised multiply - returns x*y\\nint  lib_mul(int x, int y);\\n\\n```\\n## End of library\\n\\n## template:\\n```c\\n\\n#include <stdint.h>\\n#include <stdlib.h>\\n\\n// Step 2 include custom and standard headers\\n\\n<FILL>\\n\\nextern \"C\" int LLVMFuzzerTestOneInput(const uint8_t *Data, size_t Size) {\\n\\n// Step 3 call to the lib_echo function\\n<FILL>;\\n\\n  return 0;\\n}\\n\\n```\\n## End of template:\\n [/INST]\\n  ```\\n#include <stdint.h>\\n#include <stdlib.h>\\n#include <string.h>\\n#include \"library.h\"\\n\\nextern \"C\" int LLVMFuzzerTestOneInput(const uint8_t *Data, size_t Size) {\\n    char *data = (char *)Data;\\n    lib_echo(data, Size);\\n    return 0;\\n}\\n```</s><s>[INST]\\ncan you regenerate the previous code to fix the following error:\\nfile.c:6:8: error: expected identifier or ‘(’ before string constant\\n    6 | extern \"C\" int LLVMFuzzerTestOneInput(const uint8_t *Data, size_t Size) {\\n      |        ^~~\\n[/INST]'"
      ]
     },
     "execution_count": 46,
     "metadata": {},
     "output_type": "execute_result"
    }
   ],
   "source": []
  },
  {
   "cell_type": "code",
   "execution_count": null,
   "id": "6b566834-f16d-438b-9384-11f89da9921e",
   "metadata": {},
   "outputs": [],
   "source": [
    "# make sure that the harness is fuzzable"
   ]
  }
 ],
 "metadata": {
  "kernelspec": {
   "display_name": "Python 3 (ipykernel)",
   "language": "python",
   "name": "python3"
  },
  "language_info": {
   "codemirror_mode": {
    "name": "ipython",
    "version": 3
   },
   "file_extension": ".py",
   "mimetype": "text/x-python",
   "name": "python",
   "nbconvert_exporter": "python",
   "pygments_lexer": "ipython3",
   "version": "3.10.14"
  }
 },
 "nbformat": 4,
 "nbformat_minor": 5
}
