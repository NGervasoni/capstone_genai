{
 "cells": [
  {
   "cell_type": "code",
   "execution_count": 1,
   "id": "e0e9f959-119e-4aa6-8493-ce8308c4941b",
   "metadata": {
    "editable": true,
    "slideshow": {
     "slide_type": ""
    },
    "tags": []
   },
   "outputs": [
    {
     "name": "stdout",
     "output_type": "stream",
     "text": [
      "sagemaker.config INFO - Not applying SDK defaults from location: /etc/xdg/sagemaker/config.yaml\n",
      "sagemaker.config INFO - Not applying SDK defaults from location: /home/sagemaker-user/.config/sagemaker/config.yaml\n"
     ]
    }
   ],
   "source": [
    "from utils import load_config\n",
    "from llm import *\n",
    "from prompt import *\n",
    "from harness import *\n",
    "import os\n",
    "original_directory = os.getcwd()"
   ]
  },
  {
   "cell_type": "code",
   "execution_count": 2,
   "id": "58021a15-6eea-41ad-a556-b5cd055ba5b2",
   "metadata": {},
   "outputs": [],
   "source": [
    "# function_name=\"ares_create_query\"\n",
    "# IS_C_CODE= True\n",
    "# c_files = find_files(\"/home/sagemaker-user/fuzzer-test-suite/c-ares-CVE-2016-5180/SRC\", '.c')\n",
    "# h_files = find_files(\"/home/sagemaker-user/fuzzer-test-suite/c-ares-CVE-2016-5180/SRC\", '.h')\n",
    "# lib_files = c_files\n",
    "# HARNESS = 'harness.c'\n",
    "# HARNESS_BIN = 'harness'"
   ]
  },
  {
   "cell_type": "code",
   "execution_count": 3,
   "id": "3f298716-e172-4677-9d2c-5fd87484883f",
   "metadata": {
    "editable": true,
    "slideshow": {
     "slide_type": ""
    },
    "tags": []
   },
   "outputs": [],
   "source": [
    "import subprocess\n",
    "import time\n",
    "from datetime import datetime\n",
    "def has_coverage(config):\n",
    "    seconds_to_wait = 5\n",
    "    print(f'checking that there is some coverage (Running the fuzzer for {seconds_to_wait}) seconds')\n",
    "    # print(datetime.now())\n",
    "    # r = subprocess.Popen(['afl-fuzz', '-i', 'seed', '-o', 'out', '--', f'./{HARNESS_BIN}'], stdout=subprocess.PIPE, stderr=subprocess.PIPE, text=True)\n",
    "    # time.sleep(seconds_to_wait)\n",
    "    # r.terminate()\n",
    "    # try:\n",
    "    #     r.wait(timeout=2)  # Give some time to clean up resources\n",
    "    # except subprocess.TimeoutExpired:\n",
    "    #     r.kill()  # Force kill if it's still not terminating\n",
    "    # print(datetime.now())\n",
    "    print(datetime.now())\n",
    "    \n",
    "    cmd = f\"timeout {seconds_to_wait}s afl-fuzz -i {config['seeds']} -o out -- ./{config['harness_bin']} > /dev/null\"\n",
    "    get_ipython().system(cmd)\n",
    "    # !timeout 5s afl-fuzz -i config['seeds'] -o out -- config['harness_bin'] #> /dev/null\n",
    "    # time.sleep(seconds_to_wait)\n",
    "    print(datetime.now())\n",
    "    \n",
    "    result = subprocess.run(['afl-whatsup', 'out/'], stdout=subprocess.PIPE, stderr=subprocess.PIPE, text=True)\n",
    "    stats = extract_summary_stats(result.stdout)\n",
    "    print(f\"{stats['coverage reached'][:-1]}\")\n",
    "    if float(stats['coverage reached'][:-1]) == 0:\n",
    "        print('Trying to fuzz for 60 seconds')\n",
    "        seconds_to_wait = 60\n",
    "        cmd = f\"timeout {seconds_to_wait}s afl-fuzz -i {config['seeds']} -o out -- ./{config['harness_bin']} > /dev/null\"\n",
    "        get_ipython().system(cmd)\n",
    "        # !timeout 60s afl-fuzz -i seed -o out -- ./harness > /dev/null\n",
    "        result = subprocess.run(['afl-whatsup', 'out/'], stdout=subprocess.PIPE, stderr=subprocess.PIPE, text=True)\n",
    "        stats = extract_summary_stats(result.stdout)\n",
    "        print(f\"{stats['coverage reached'][:-1]}=\")\n",
    "    return not float(stats['coverage reached'][:-1]) == 0"
   ]
  },
  {
   "cell_type": "code",
   "execution_count": 4,
   "id": "cb42d235-ee2d-4ba4-b49b-cae478da3fbb",
   "metadata": {
    "editable": true,
    "slideshow": {
     "slide_type": ""
    },
    "tags": []
   },
   "outputs": [],
   "source": [
    "# GENERATE HARNESS\n",
    "def generate_harness(new_dir, compile_command, CONFIG):\n",
    "    \n",
    "    os.chdir(original_directory)\n",
    "    os.chdir(original_directory + new_dir)\n",
    "    \n",
    "    tentatives = 10\n",
    "    initial_prompt = generate_initial_prompt(CONFIG)\n",
    "    first_answer = get_answer(initial_prompt)\n",
    "    extract_and_save_harness(first_answer, CONFIG['harness'])\n",
    "    prev_prompt = initial_prompt\n",
    "    prev_res = first_answer\n",
    "\n",
    "    while tentatives:\n",
    "        print(f\"{tentatives=}\")\n",
    "        tentatives = tentatives -1\n",
    "        # checking that harness is compilable\n",
    "        compile_res = compile(compile_command)\n",
    "        if compile_res[0]:\n",
    "        # checking that does not crash on seed\n",
    "            run_res = run_seed(CONFIG)\n",
    "            if run_res[0]:\n",
    "                # checking that there is some coverage\n",
    "                if has_coverage(CONFIG):\n",
    "                    break\n",
    "                else:\n",
    "                    prev_prompt = followup_prompt(prev_prompt, prev_res[0]['generated_text'], \"When running afl-fuzz over the generated code, the Coverage reached value is 0%. It probably means that the input from the fuzzer is not correclty passed to the fuzzed function. Can you regenerate the code to fiX this issue?\\n\")\n",
    "                    prev_res = get_answer(prev_prompt)\n",
    "                    extract_and_save_harness(prev_res, CONFIG['harness'])\n",
    "            else:\n",
    "                print(f\"{run_res[1]=}\")\n",
    "                prev_prompt = followup_prompt(prev_prompt, prev_res[0]['generated_text'], \"The generated code when run with input AAAA is crashing with this error\\n\" + run_res[1] + '\\ncan you regenerate the previous code to fix the issue?')\n",
    "                prev_res = get_answer(prev_prompt)\n",
    "                extract_and_save_harness(prev_res, CONFIG['harness'])\n",
    "        else:\n",
    "            print(f\"{compile_res[1]=}\")\n",
    "            prev_prompt = followup_prompt(prev_prompt, prev_res[0]['generated_text'], \"can you regenerate the previous code to fix the following compilation error:\\n\" + compile_res[1])\n",
    "            prev_res = get_answer(prev_prompt)\n",
    "            extract_and_save_harness(prev_res, CONFIG['harness'])\n",
    "            # break\n",
    "    print(\"New harness saved in\" + original_directory + '/evaluation/simple_lib/src/' + CONFIG['harness'])\n",
    "    os.chdir(original_directory)"
   ]
  },
  {
   "cell_type": "code",
   "execution_count": 5,
   "id": "ae8eebe2-1938-42f7-b573-36182741aa79",
   "metadata": {
    "editable": true,
    "scrolled": true,
    "slideshow": {
     "slide_type": ""
    },
    "tags": []
   },
   "outputs": [
    {
     "ename": "ModelError",
     "evalue": "An error occurred (ModelError) when calling the InvokeEndpoint operation: Received client error (422) from primary with message \"{\"error\":\"Input validation error: `inputs` tokens + `max_new_tokens` must be <= 16384. Given: 220409 `inputs` tokens and 500 `max_new_tokens`\",\"error_type\":\"validation\"}\". See https://us-east-1.console.aws.amazon.com/cloudwatch/home?region=us-east-1#logEventViewer:group=/aws/sagemaker/Endpoints/jumpstart-dft-llama-codellama-13b-i-20240417-060043 in account 539305915502 for more information.",
     "output_type": "error",
     "traceback": [
      "\u001b[0;31m---------------------------------------------------------------------------\u001b[0m",
      "\u001b[0;31mModelError\u001b[0m                                Traceback (most recent call last)",
      "Cell \u001b[0;32mIn[5], line 5\u001b[0m\n\u001b[1;32m      3\u001b[0m new_dir \u001b[38;5;241m=\u001b[39m \u001b[38;5;124m'\u001b[39m\u001b[38;5;124m/evaluation/libxml2/libxml2/\u001b[39m\u001b[38;5;124m'\u001b[39m\n\u001b[1;32m      4\u001b[0m compile_command \u001b[38;5;241m=\u001b[39m CONFIG[\u001b[38;5;124m'\u001b[39m\u001b[38;5;124mcompile_command\u001b[39m\u001b[38;5;124m'\u001b[39m]\u001b[38;5;241m.\u001b[39msplit()\n\u001b[0;32m----> 5\u001b[0m \u001b[43mgenerate_harness\u001b[49m\u001b[43m(\u001b[49m\u001b[43mnew_dir\u001b[49m\u001b[43m,\u001b[49m\u001b[43m \u001b[49m\u001b[43mcompile_command\u001b[49m\u001b[43m,\u001b[49m\u001b[43m \u001b[49m\u001b[43mCONFIG\u001b[49m\u001b[43m)\u001b[49m\n",
      "Cell \u001b[0;32mIn[4], line 9\u001b[0m, in \u001b[0;36mgenerate_harness\u001b[0;34m(new_dir, compile_command, CONFIG)\u001b[0m\n\u001b[1;32m      7\u001b[0m tentatives \u001b[38;5;241m=\u001b[39m \u001b[38;5;241m10\u001b[39m\n\u001b[1;32m      8\u001b[0m initial_prompt \u001b[38;5;241m=\u001b[39m generate_initial_prompt(CONFIG)\n\u001b[0;32m----> 9\u001b[0m first_answer \u001b[38;5;241m=\u001b[39m \u001b[43mget_answer\u001b[49m\u001b[43m(\u001b[49m\u001b[43minitial_prompt\u001b[49m\u001b[43m)\u001b[49m\n\u001b[1;32m     10\u001b[0m extract_and_save_harness(first_answer, CONFIG[\u001b[38;5;124m'\u001b[39m\u001b[38;5;124mharness\u001b[39m\u001b[38;5;124m'\u001b[39m])\n\u001b[1;32m     11\u001b[0m prev_prompt \u001b[38;5;241m=\u001b[39m initial_prompt\n",
      "File \u001b[0;32m~/harnessgeneration/llm.py:19\u001b[0m, in \u001b[0;36mget_answer\u001b[0;34m(prompt, verbose)\u001b[0m\n\u001b[1;32m     17\u001b[0m     \u001b[38;5;28mprint\u001b[39m(\u001b[38;5;124m\"\u001b[39m\u001b[38;5;124mpayload = \u001b[39m\u001b[38;5;124m\"\u001b[39m \u001b[38;5;241m+\u001b[39m json\u001b[38;5;241m.\u001b[39mdumps(payload, indent\u001b[38;5;241m=\u001b[39m\u001b[38;5;241m4\u001b[39m, sort_keys\u001b[38;5;241m=\u001b[39m\u001b[38;5;28;01mTrue\u001b[39;00m))\n\u001b[1;32m     18\u001b[0m     \u001b[38;5;28mprint\u001b[39m( \u001b[38;5;124m\"\u001b[39m\u001b[38;5;124m========= ANSWER =========\u001b[39m\u001b[38;5;124m\"\u001b[39m)\n\u001b[0;32m---> 19\u001b[0m response \u001b[38;5;241m=\u001b[39m \u001b[43mPREDICTOR\u001b[49m\u001b[38;5;241;43m.\u001b[39;49m\u001b[43mpredict\u001b[49m\u001b[43m(\u001b[49m\u001b[43mpayload\u001b[49m\u001b[43m)\u001b[49m\n\u001b[1;32m     20\u001b[0m \u001b[38;5;28mprint\u001b[39m(response[\u001b[38;5;241m0\u001b[39m][\u001b[38;5;124m'\u001b[39m\u001b[38;5;124mgenerated_text\u001b[39m\u001b[38;5;124m'\u001b[39m])\n\u001b[1;32m     21\u001b[0m \u001b[38;5;28;01mreturn\u001b[39;00m response\n",
      "File \u001b[0;32m/opt/conda/lib/python3.10/site-packages/sagemaker/base_predictor.py:209\u001b[0m, in \u001b[0;36mPredictor.predict\u001b[0;34m(self, data, initial_args, target_model, target_variant, inference_id, custom_attributes, component_name)\u001b[0m\n\u001b[1;32m    206\u001b[0m \u001b[38;5;28;01mif\u001b[39;00m inference_component_name:\n\u001b[1;32m    207\u001b[0m     request_args[\u001b[38;5;124m\"\u001b[39m\u001b[38;5;124mInferenceComponentName\u001b[39m\u001b[38;5;124m\"\u001b[39m] \u001b[38;5;241m=\u001b[39m inference_component_name\n\u001b[0;32m--> 209\u001b[0m response \u001b[38;5;241m=\u001b[39m \u001b[38;5;28;43mself\u001b[39;49m\u001b[38;5;241;43m.\u001b[39;49m\u001b[43msagemaker_session\u001b[49m\u001b[38;5;241;43m.\u001b[39;49m\u001b[43msagemaker_runtime_client\u001b[49m\u001b[38;5;241;43m.\u001b[39;49m\u001b[43minvoke_endpoint\u001b[49m\u001b[43m(\u001b[49m\u001b[38;5;241;43m*\u001b[39;49m\u001b[38;5;241;43m*\u001b[39;49m\u001b[43mrequest_args\u001b[49m\u001b[43m)\u001b[49m\n\u001b[1;32m    210\u001b[0m \u001b[38;5;28;01mreturn\u001b[39;00m \u001b[38;5;28mself\u001b[39m\u001b[38;5;241m.\u001b[39m_handle_response(response)\n",
      "File \u001b[0;32m/opt/conda/lib/python3.10/site-packages/botocore/client.py:553\u001b[0m, in \u001b[0;36mClientCreator._create_api_method.<locals>._api_call\u001b[0;34m(self, *args, **kwargs)\u001b[0m\n\u001b[1;32m    549\u001b[0m     \u001b[38;5;28;01mraise\u001b[39;00m \u001b[38;5;167;01mTypeError\u001b[39;00m(\n\u001b[1;32m    550\u001b[0m         \u001b[38;5;124mf\u001b[39m\u001b[38;5;124m\"\u001b[39m\u001b[38;5;132;01m{\u001b[39;00mpy_operation_name\u001b[38;5;132;01m}\u001b[39;00m\u001b[38;5;124m() only accepts keyword arguments.\u001b[39m\u001b[38;5;124m\"\u001b[39m\n\u001b[1;32m    551\u001b[0m     )\n\u001b[1;32m    552\u001b[0m \u001b[38;5;66;03m# The \"self\" in this scope is referring to the BaseClient.\u001b[39;00m\n\u001b[0;32m--> 553\u001b[0m \u001b[38;5;28;01mreturn\u001b[39;00m \u001b[38;5;28;43mself\u001b[39;49m\u001b[38;5;241;43m.\u001b[39;49m\u001b[43m_make_api_call\u001b[49m\u001b[43m(\u001b[49m\u001b[43moperation_name\u001b[49m\u001b[43m,\u001b[49m\u001b[43m \u001b[49m\u001b[43mkwargs\u001b[49m\u001b[43m)\u001b[49m\n",
      "File \u001b[0;32m/opt/conda/lib/python3.10/site-packages/botocore/client.py:1009\u001b[0m, in \u001b[0;36mBaseClient._make_api_call\u001b[0;34m(self, operation_name, api_params)\u001b[0m\n\u001b[1;32m   1005\u001b[0m     error_code \u001b[38;5;241m=\u001b[39m error_info\u001b[38;5;241m.\u001b[39mget(\u001b[38;5;124m\"\u001b[39m\u001b[38;5;124mQueryErrorCode\u001b[39m\u001b[38;5;124m\"\u001b[39m) \u001b[38;5;129;01mor\u001b[39;00m error_info\u001b[38;5;241m.\u001b[39mget(\n\u001b[1;32m   1006\u001b[0m         \u001b[38;5;124m\"\u001b[39m\u001b[38;5;124mCode\u001b[39m\u001b[38;5;124m\"\u001b[39m\n\u001b[1;32m   1007\u001b[0m     )\n\u001b[1;32m   1008\u001b[0m     error_class \u001b[38;5;241m=\u001b[39m \u001b[38;5;28mself\u001b[39m\u001b[38;5;241m.\u001b[39mexceptions\u001b[38;5;241m.\u001b[39mfrom_code(error_code)\n\u001b[0;32m-> 1009\u001b[0m     \u001b[38;5;28;01mraise\u001b[39;00m error_class(parsed_response, operation_name)\n\u001b[1;32m   1010\u001b[0m \u001b[38;5;28;01melse\u001b[39;00m:\n\u001b[1;32m   1011\u001b[0m     \u001b[38;5;28;01mreturn\u001b[39;00m parsed_response\n",
      "\u001b[0;31mModelError\u001b[0m: An error occurred (ModelError) when calling the InvokeEndpoint operation: Received client error (422) from primary with message \"{\"error\":\"Input validation error: `inputs` tokens + `max_new_tokens` must be <= 16384. Given: 220409 `inputs` tokens and 500 `max_new_tokens`\",\"error_type\":\"validation\"}\". See https://us-east-1.console.aws.amazon.com/cloudwatch/home?region=us-east-1#logEventViewer:group=/aws/sagemaker/Endpoints/jumpstart-dft-llama-codellama-13b-i-20240417-060043 in account 539305915502 for more information."
     ]
    }
   ],
   "source": [
    "config_file= \"/home/sagemaker-user/harnessgeneration/evaluation/libxml2/xmlReadFile.yaml\"\n",
    "CONFIG = load_config(config_file)\n",
    "new_dir = '/evaluation/libxml2/libxml2/'\n",
    "compile_command = CONFIG['compile_command'].split()\n",
    "generate_harness(new_dir, compile_command, CONFIG)"
   ]
  },
  {
   "cell_type": "code",
   "execution_count": 13,
   "id": "ab7cf74d-4216-494f-8a4f-6215cb080dc2",
   "metadata": {
    "editable": true,
    "slideshow": {
     "slide_type": ""
    },
    "tags": []
   },
   "outputs": [],
   "source": [
    "# c_files = find_files(\"/home/sagemaker-user/fuzzer-test-suite/c-ares-CVE-2016-5180/SRC\", '.c')\n",
    "# h_files = find_files(\"/home/sagemaker-user/fuzzer-test-suite/c-ares-CVE-2016-5180/SRC\", '.h')"
   ]
  },
  {
   "cell_type": "code",
   "execution_count": 6,
   "id": "5759da65-5a02-4655-8fb0-06b898f58a23",
   "metadata": {
    "editable": true,
    "slideshow": {
     "slide_type": ""
    },
    "tags": []
   },
   "outputs": [],
   "source": [
    "initial_prompt = generate_initial_prompt(CONFIG)"
   ]
  },
  {
   "cell_type": "code",
   "execution_count": 8,
   "id": "e8676d55-ee91-4b68-ab61-72fa0f8b3295",
   "metadata": {},
   "outputs": [],
   "source": [
    "template, custom_lib = extract_includes(CONFIG['c_file_path'], CONFIG['src_folder_path'])"
   ]
  },
  {
   "cell_type": "code",
   "execution_count": 9,
   "id": "c0552def-5a07-49be-a8a6-e07f91f17ca7",
   "metadata": {},
   "outputs": [
    {
     "data": {
      "text/plain": [
       "['/home/sagemaker-user/harnessgeneration/evaluation/libxml2/libxml2/libxml.h',\n",
       " '/home/sagemaker-user/harnessgeneration/evaluation/libxml2/libxml2/config.h',\n",
       " '/home/sagemaker-user/harnessgeneration/evaluation/libxml2/libxml2/buf.h',\n",
       " '/home/sagemaker-user/harnessgeneration/evaluation/libxml2/libxml2/enc.h',\n",
       " '/home/sagemaker-user/harnessgeneration/evaluation/libxml2/libxml2/elfgcchack.h']"
      ]
     },
     "execution_count": 9,
     "metadata": {},
     "output_type": "execute_result"
    }
   ],
   "source": [
    "custom_lib"
   ]
  },
  {
   "cell_type": "code",
   "execution_count": 10,
   "id": "6a9ba267-7575-432d-be80-48641232b644",
   "metadata": {},
   "outputs": [
    {
     "data": {
      "text/plain": [
       "'#include \"/libxml.h\"/n#include \"/config.h\"/n#include \"/buf.h\"/n#include \"/enc.h\"/n#include \"/elfgcchack.h\"'"
      ]
     },
     "execution_count": 10,
     "metadata": {},
     "output_type": "execute_result"
    }
   ],
   "source": [
    "template"
   ]
  }
 ],
 "metadata": {
  "kernelspec": {
   "display_name": "Python 3 (ipykernel)",
   "language": "python",
   "name": "python3"
  },
  "language_info": {
   "codemirror_mode": {
    "name": "ipython",
    "version": 3
   },
   "file_extension": ".py",
   "mimetype": "text/x-python",
   "name": "python",
   "nbconvert_exporter": "python",
   "pygments_lexer": "ipython3",
   "version": "3.10.14"
  }
 },
 "nbformat": 4,
 "nbformat_minor": 5
}
