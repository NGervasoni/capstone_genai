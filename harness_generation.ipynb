{
 "cells": [
  {
   "cell_type": "code",
   "execution_count": 19,
   "id": "e0e9f959-119e-4aa6-8493-ce8308c4941b",
   "metadata": {},
   "outputs": [],
   "source": [
    "from utils import load_config\n",
    "from llm import *\n",
    "from prompt import *\n",
    "from harness import *"
   ]
  },
  {
   "cell_type": "code",
   "execution_count": 18,
   "id": "b1259275-f682-430b-bfc7-d5771b05f6cd",
   "metadata": {},
   "outputs": [],
   "source": [
    "from sys import modules\n",
    "del modules['harness']\n",
    "del modules['llm']\n",
    "del modules['prompt']\n",
    "del modules['utils']"
   ]
  },
  {
   "cell_type": "code",
   "execution_count": 25,
   "id": "1bba2849-fe69-4fc2-ab41-e141a57a253e",
   "metadata": {},
   "outputs": [
    {
     "data": {
      "text/plain": [
       "{'function_name': 'lib_mul',\n",
       " 'is_c_code': True,\n",
       " 'lib_files': ['/home/sagemaker-user/harnessgeneration/evaluation/simple_lib/src/library.c',\n",
       "  '/home/sagemaker-user/harnessgeneration/evaluation/simple_lib/src/library.h'],\n",
       " 'harness': '/home/sagemaker-user/harnessgeneration/evaluation/simple_lib/harnesslib_mul.c',\n",
       " 'harness_bin': '/home/sagemaker-user/harnessgeneration/evaluation/simple_lib/harnesslib_mul'}"
      ]
     },
     "execution_count": 25,
     "metadata": {},
     "output_type": "execute_result"
    }
   ],
   "source": [
    "CONFIG = load_config(\"/home/sagemaker-user/harnessgeneration/evaluation/simple_lib/lib_mul.yaml\")\n",
    "CONFIG"
   ]
  },
  {
   "cell_type": "code",
   "execution_count": 81,
   "id": "58021a15-6eea-41ad-a556-b5cd055ba5b2",
   "metadata": {},
   "outputs": [],
   "source": [
    "# function_name=\"ares_create_query\"\n",
    "# IS_C_CODE= True\n",
    "# c_files = find_files(\"/home/sagemaker-user/fuzzer-test-suite/c-ares-CVE-2016-5180/SRC\", '.c')\n",
    "# h_files = find_files(\"/home/sagemaker-user/fuzzer-test-suite/c-ares-CVE-2016-5180/SRC\", '.h')\n",
    "# lib_files = c_files\n",
    "# HARNESS = 'harness.c'\n",
    "# HARNESS_BIN = 'harness'"
   ]
  },
  {
   "cell_type": "code",
   "execution_count": 3,
   "id": "3f298716-e172-4677-9d2c-5fd87484883f",
   "metadata": {},
   "outputs": [],
   "source": [
    "import subprocess\n",
    "\n",
    "def has_coverage():\n",
    "    seconds_to_wait = 15\n",
    "    print(f'checking that there is some coverage (Running the fuzzer for {seconds_to_wait}) seconds')\n",
    "    # print(datetime.now())\n",
    "    # r = subprocess.Popen(['afl-fuzz', '-i', 'seed', '-o', 'out', '--', f'./{HARNESS_BIN}'], stdout=subprocess.PIPE, stderr=subprocess.PIPE, text=True)\n",
    "    # time.sleep(seconds_to_wait)\n",
    "    # r.terminate()\n",
    "    # try:\n",
    "    #     r.wait(timeout=2)  # Give some time to clean up resources\n",
    "    # except subprocess.TimeoutExpired:\n",
    "    #     r.kill()  # Force kill if it's still not terminating\n",
    "    # print(datetime.now())\n",
    "    !timeout 5s afl-fuzz -i seed -o out -- ./harness > /dev/null\n",
    "    result = subprocess.run(['afl-whatsup', 'out/'], stdout=subprocess.PIPE, stderr=subprocess.PIPE, text=True)\n",
    "    stats = extract_summary_stats(result.stdout)\n",
    "    print(f\"{stats['coverage reached'][:-1]}\")\n",
    "    if float(stats['coverage reached'][:-1]) == 0:\n",
    "        print('Trying to fuzz for 60 seconds')\n",
    "        !timeout 60s afl-fuzz -i seed -o out -- ./harness > /dev/null\n",
    "        result = subprocess.run(['afl-whatsup', 'out/'], stdout=subprocess.PIPE, stderr=subprocess.PIPE, text=True)\n",
    "        stats = extract_summary_stats(result.stdout)\n",
    "        print(f\"{stats['coverage reached'][:-1]}\")\n",
    "    return not float(stats['coverage reached'][:-1]) == 0"
   ]
  },
  {
   "cell_type": "code",
   "execution_count": 92,
   "id": "b2103011-0ee4-40d7-9606-72c4bb3ca0fc",
   "metadata": {},
   "outputs": [],
   "source": []
  },
  {
   "cell_type": "code",
   "execution_count": 94,
   "id": "69788512-56d9-4895-bcba-d14ebdac5851",
   "metadata": {},
   "outputs": [
    {
     "data": {
      "text/plain": [
       "1685"
      ]
     },
     "execution_count": 94,
     "metadata": {},
     "output_type": "execute_result"
    }
   ],
   "source": [
    "# first_answer = get_answer(initial_prompt)\n",
    "len(initial_prompt)"
   ]
  },
  {
   "cell_type": "code",
   "execution_count": null,
   "id": "216d8ef2-74cc-4b72-bf9f-fe5ba16cddc0",
   "metadata": {},
   "outputs": [],
   "source": [
    "# get_answer(initial_prompt)"
   ]
  },
  {
   "cell_type": "code",
   "execution_count": 29,
   "id": "cb42d235-ee2d-4ba4-b49b-cae478da3fbb",
   "metadata": {
    "editable": true,
    "slideshow": {
     "slide_type": ""
    },
    "tags": []
   },
   "outputs": [
    {
     "name": "stdout",
     "output_type": "stream",
     "text": [
      "  ```c\n",
      "    #include <stdint.h>\n",
      "    #include <stdlib.h>\n",
      "    #include \"library.h\"\n",
      "    \n",
      "    int LLVMFuzzerTestOneInput(const uint8_t *Data, size_t Size) {\n",
      "    \tlib_mul(Data[0], Data[1]);\n",
      "    \treturn 0;\n",
      "    }\n",
      "    ```\n",
      "tentatives=10\n",
      "checking that harness is compilable\n",
      "compile_command=['afl-gcc-fast', '-fsanitize=fuzzer', '/home/sagemaker-user/harnessgeneration/evaluation/simple_lib/harnesslib_mul.c', '/home/sagemaker-user/harnessgeneration/evaluation/simple_lib/src/library.c', '-o', '/home/sagemaker-user/harnessgeneration/evaluation/simple_lib/harnesslib_mul']\n",
      "Compilation failed.\n",
      "Errors: /home/sagemaker-user/harnessgeneration/evaluation/simple_lib/harnesslib_mul.c:3:14: fatal error: library.h: No such file or directory\n",
      "    3 |     #include \"library.h\"\n",
      "      |              ^~~~~~~~~~~\n",
      "compilation terminated.\n",
      "\n",
      "compile_res[1]='/home/sagemaker-user/harnessgeneration/evaluation/simple_lib/harnesslib_mul.c:3:14: fatal error: library.h: No such file or directory\\n    3 |     #include \"library.h\"\\n      |              ^~~~~~~~~~~\\ncompilation terminated.\\n'\n"
     ]
    },
    {
     "ename": "TypeError",
     "evalue": "string indices must be integers",
     "output_type": "error",
     "traceback": [
      "\u001b[0;31m---------------------------------------------------------------------------\u001b[0m",
      "\u001b[0;31mTypeError\u001b[0m                                 Traceback (most recent call last)",
      "Cell \u001b[0;32mIn[29], line 36\u001b[0m\n\u001b[1;32m     34\u001b[0m \u001b[38;5;28;01melse\u001b[39;00m:\n\u001b[1;32m     35\u001b[0m     \u001b[38;5;28mprint\u001b[39m(\u001b[38;5;124mf\u001b[39m\u001b[38;5;124m\"\u001b[39m\u001b[38;5;132;01m{\u001b[39;00mcompile_res[\u001b[38;5;241m1\u001b[39m]\u001b[38;5;132;01m=}\u001b[39;00m\u001b[38;5;124m\"\u001b[39m)\n\u001b[0;32m---> 36\u001b[0m     prev_prompt \u001b[38;5;241m=\u001b[39m followup_prompt(prev_prompt, \u001b[43mprev_res\u001b[49m\u001b[43m[\u001b[49m\u001b[38;5;241;43m0\u001b[39;49m\u001b[43m]\u001b[49m\u001b[43m[\u001b[49m\u001b[38;5;124;43m'\u001b[39;49m\u001b[38;5;124;43mgenerated_text\u001b[39;49m\u001b[38;5;124;43m'\u001b[39;49m\u001b[43m]\u001b[49m, \u001b[38;5;124m\"\u001b[39m\u001b[38;5;124mcan you regenerate the previous code to fix the following compilation error:\u001b[39m\u001b[38;5;130;01m\\n\u001b[39;00m\u001b[38;5;124m\"\u001b[39m \u001b[38;5;241m+\u001b[39m compile_res[\u001b[38;5;241m1\u001b[39m])\n\u001b[1;32m     37\u001b[0m     prev_res \u001b[38;5;241m=\u001b[39m get_answer(prev_prompt)\n\u001b[1;32m     38\u001b[0m     extract_and_save_harness(prev_res, CONFIG[\u001b[38;5;124m'\u001b[39m\u001b[38;5;124mharness\u001b[39m\u001b[38;5;124m'\u001b[39m])\n",
      "\u001b[0;31mTypeError\u001b[0m: string indices must be integers"
     ]
    }
   ],
   "source": [
    "# GENERATE HARNESS\n",
    "\n",
    "tentatives = 10\n",
    "initial_prompt = generate_initial_prompt(CONFIG)\n",
    "first_answer = get_answer(initial_prompt)\n",
    "extract_and_save_harness(first_answer, CONFIG['harness'])\n",
    "prev_prompt = initial_prompt\n",
    "prev_res = first_answer[0]['generated_text']\n",
    "\n",
    "compile_command = ['afl-gcc-fast', '-fsanitize=fuzzer', \n",
    "                   CONFIG['harness'], '/home/sagemaker-user/harnessgeneration/evaluation/simple_lib/src/library.c', '-o', CONFIG['harness_bin']]\n",
    "\n",
    "while tentatives:\n",
    "    print(f\"{tentatives=}\")\n",
    "    tentatives = tentatives -1\n",
    "    # checking that harness is compilable\n",
    "    compile_res = compile(compile_command)\n",
    "    if compile_res[0]:\n",
    "    # checking that does not crash on seed\n",
    "        run_res = run_seed()\n",
    "        if run_res[0]:\n",
    "            # checking that there is some coverage\n",
    "            if has_coverage():\n",
    "                break\n",
    "            else:\n",
    "                prev_prompt = followup_prompt(prev_prompt, prev_res[0]['generated_text'], \"When running afl-fuzz over the generated code, the Coverage reached value is 0%. It probably means that the input from the fuzzer is not correclty passed to the fuzzed function. Can you regenerate the code to fiX this issue?\\n\")\n",
    "                prev_res = get_answer(prev_prompt)\n",
    "                extract_and_save_harness(prev_res, CONFIG['harness'])\n",
    "        else:\n",
    "            print(f\"{run_res[1]=}\")\n",
    "            prev_prompt = followup_prompt(prev_prompt, prev_res[0]['generated_text'], \"The generated code when run with input AAAA is crashing with this error\\n\" + run_res[1] + '\\ncan you regenerate the previous code to fix the issue?')\n",
    "            prev_res = get_answer(prev_prompt)\n",
    "            extract_and_save_harness(prev_res, CONFIG['harness'])\n",
    "    else:\n",
    "        print(f\"{compile_res[1]=}\")\n",
    "        prev_prompt = followup_prompt(prev_prompt, prev_res[0]['generated_text'], \"can you regenerate the previous code to fix the following compilation error:\\n\" + compile_res[1])\n",
    "        prev_res = get_answer(prev_prompt)\n",
    "        extract_and_save_harness(prev_res, CONFIG['harness'])\n",
    "        # break"
   ]
  },
  {
   "cell_type": "code",
   "execution_count": 30,
   "id": "afd98306-90f7-4053-bde8-163c2657cf12",
   "metadata": {},
   "outputs": [
    {
     "data": {
      "text/plain": [
       "'  ```c\\n    #include <stdint.h>\\n    #include <stdlib.h>\\n    #include \"library.h\"\\n    \\n    int LLVMFuzzerTestOneInput(const uint8_t *Data, size_t Size) {\\n    \\tlib_mul(Data[0], Data[1]);\\n    \\treturn 0;\\n    }\\n    ```'"
      ]
     },
     "execution_count": 30,
     "metadata": {},
     "output_type": "execute_result"
    }
   ],
   "source": [
    "prev_res"
   ]
  },
  {
   "cell_type": "code",
   "execution_count": 28,
   "id": "722ab1bc-0d40-4c78-a899-225e60f3a23b",
   "metadata": {},
   "outputs": [
    {
     "data": {
      "text/plain": [
       "[{'generated_text': '  Certainly! Here is the corrected code:\\n```c\\n#include <stdint.h>\\n#include <stdlib.h>\\n#include \"simple_lib/library.h\"\\n\\nint LLVMFuzzerTestOneInput(const uint8_t *Data, size_t Size) {\\n    char *data = (char *)Data;\\n    ssize_t len = (ssize_t)Size;\\n    lib_echo(data, len);\\n    return 0;\\n}\\n```\\nThe error was caused by the missing `#include \"simple_lib/library.h\"` directive, which was needed to include the header file for the `lib_echo` function.'}]"
      ]
     },
     "execution_count": 28,
     "metadata": {},
     "output_type": "execute_result"
    }
   ],
   "source": [
    "prev_res"
   ]
  },
  {
   "cell_type": "code",
   "execution_count": 56,
   "id": "a1d4f4c0-6400-468e-ada6-eb931be3c5c1",
   "metadata": {
    "scrolled": true
   },
   "outputs": [],
   "source": [
    "# r = get_answer(fix_compilation_prompt)"
   ]
  },
  {
   "cell_type": "code",
   "execution_count": 80,
   "id": "e75440f5-b872-4e21-9ad4-38f45eb3cd0e",
   "metadata": {},
   "outputs": [],
   "source": []
  },
  {
   "cell_type": "code",
   "execution_count": 71,
   "id": "ab7cf74d-4216-494f-8a4f-6215cb080dc2",
   "metadata": {},
   "outputs": [],
   "source": [
    "c_files = find_files(\"/home/sagemaker-user/fuzzer-test-suite/c-ares-CVE-2016-5180/SRC\", '.c')\n",
    "h_files = find_files(\"/home/sagemaker-user/fuzzer-test-suite/c-ares-CVE-2016-5180/SRC\", '.h')"
   ]
  },
  {
   "cell_type": "code",
   "execution_count": null,
   "id": "8eeab9c2-4b91-4870-ac45-49f1f80a838a",
   "metadata": {},
   "outputs": [],
   "source": []
  }
 ],
 "metadata": {
  "kernelspec": {
   "display_name": "Python 3 (ipykernel)",
   "language": "python",
   "name": "python3"
  },
  "language_info": {
   "codemirror_mode": {
    "name": "ipython",
    "version": 3
   },
   "file_extension": ".py",
   "mimetype": "text/x-python",
   "name": "python",
   "nbconvert_exporter": "python",
   "pygments_lexer": "ipython3",
   "version": "3.10.14"
  }
 },
 "nbformat": 4,
 "nbformat_minor": 5
}
