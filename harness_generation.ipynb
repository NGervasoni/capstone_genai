{
 "cells": [
  {
   "cell_type": "code",
   "execution_count": 1,
   "id": "e0e9f959-119e-4aa6-8493-ce8308c4941b",
   "metadata": {
    "editable": true,
    "slideshow": {
     "slide_type": ""
    },
    "tags": []
   },
   "outputs": [
    {
     "name": "stdout",
     "output_type": "stream",
     "text": [
      "sagemaker.config INFO - Not applying SDK defaults from location: /etc/xdg/sagemaker/config.yaml\n",
      "sagemaker.config INFO - Not applying SDK defaults from location: /home/sagemaker-user/.config/sagemaker/config.yaml\n"
     ]
    }
   ],
   "source": [
    "from utils import load_config\n",
    "from llm import *\n",
    "from prompt import *\n",
    "from harness import *\n",
    "import os\n",
    "original_directory = os.getcwd()"
   ]
  },
  {
   "cell_type": "code",
   "execution_count": 2,
   "id": "aa658003-4715-47aa-844f-6f387d800ca6",
   "metadata": {
    "editable": true,
    "slideshow": {
     "slide_type": ""
    },
    "tags": []
   },
   "outputs": [],
   "source": [
    "# original_directory"
   ]
  },
  {
   "cell_type": "code",
   "execution_count": 3,
   "id": "1b1e40bf-46a9-41d1-ae8d-215999b130f9",
   "metadata": {
    "editable": true,
    "slideshow": {
     "slide_type": ""
    },
    "tags": []
   },
   "outputs": [],
   "source": [
    "# ! cd /home/sagemaker-user/harnessgeneration"
   ]
  },
  {
   "cell_type": "code",
   "execution_count": 4,
   "id": "b1259275-f682-430b-bfc7-d5771b05f6cd",
   "metadata": {},
   "outputs": [],
   "source": [
    "# from sys import modules\n",
    "# del modules['harness']\n",
    "# del modules['llm']\n",
    "# del modules['prompt']\n",
    "# del modules['utils']"
   ]
  },
  {
   "cell_type": "code",
   "execution_count": null,
   "id": "1bba2849-fe69-4fc2-ab41-e141a57a253e",
   "metadata": {},
   "outputs": [],
   "source": []
  },
  {
   "cell_type": "code",
   "execution_count": 5,
   "id": "58021a15-6eea-41ad-a556-b5cd055ba5b2",
   "metadata": {},
   "outputs": [],
   "source": [
    "# function_name=\"ares_create_query\"\n",
    "# IS_C_CODE= True\n",
    "# c_files = find_files(\"/home/sagemaker-user/fuzzer-test-suite/c-ares-CVE-2016-5180/SRC\", '.c')\n",
    "# h_files = find_files(\"/home/sagemaker-user/fuzzer-test-suite/c-ares-CVE-2016-5180/SRC\", '.h')\n",
    "# lib_files = c_files\n",
    "# HARNESS = 'harness.c'\n",
    "# HARNESS_BIN = 'harness'"
   ]
  },
  {
   "cell_type": "code",
   "execution_count": 6,
   "id": "3f298716-e172-4677-9d2c-5fd87484883f",
   "metadata": {
    "editable": true,
    "slideshow": {
     "slide_type": ""
    },
    "tags": []
   },
   "outputs": [],
   "source": [
    "import subprocess\n",
    "import time\n",
    "from datetime import datetime\n",
    "def has_coverage(config):\n",
    "    seconds_to_wait = 5\n",
    "    print(f'checking that there is some coverage (Running the fuzzer for {seconds_to_wait}) seconds')\n",
    "    # print(datetime.now())\n",
    "    # r = subprocess.Popen(['afl-fuzz', '-i', 'seed', '-o', 'out', '--', f'./{HARNESS_BIN}'], stdout=subprocess.PIPE, stderr=subprocess.PIPE, text=True)\n",
    "    # time.sleep(seconds_to_wait)\n",
    "    # r.terminate()\n",
    "    # try:\n",
    "    #     r.wait(timeout=2)  # Give some time to clean up resources\n",
    "    # except subprocess.TimeoutExpired:\n",
    "    #     r.kill()  # Force kill if it's still not terminating\n",
    "    # print(datetime.now())\n",
    "    print(datetime.now())\n",
    "    \n",
    "    cmd = f\"timeout {seconds_to_wait}s afl-fuzz -i {config['seeds']} -o out -- ./{config['harness_bin']} > /dev/null\"\n",
    "    get_ipython().system(cmd)\n",
    "    # !timeout 5s afl-fuzz -i config['seeds'] -o out -- config['harness_bin'] #> /dev/null\n",
    "    # time.sleep(seconds_to_wait)\n",
    "    print(datetime.now())\n",
    "    \n",
    "    result = subprocess.run(['afl-whatsup', 'out/'], stdout=subprocess.PIPE, stderr=subprocess.PIPE, text=True)\n",
    "    stats = extract_summary_stats(result.stdout)\n",
    "    print(f\"{stats['coverage reached'][:-1]}\")\n",
    "    if float(stats['coverage reached'][:-1]) == 0:\n",
    "        print('Trying to fuzz for 60 seconds')\n",
    "        seconds_to_wait = 60\n",
    "        cmd = f\"timeout {seconds_to_wait}s afl-fuzz -i {config['seeds']} -o out -- ./{config['harness_bin']} > /dev/null\"\n",
    "        get_ipython().system(cmd)\n",
    "        # !timeout 60s afl-fuzz -i seed -o out -- ./harness > /dev/null\n",
    "        result = subprocess.run(['afl-whatsup', 'out/'], stdout=subprocess.PIPE, stderr=subprocess.PIPE, text=True)\n",
    "        stats = extract_summary_stats(result.stdout)\n",
    "        print(f\"{stats['coverage reached'][:-1]}=\")\n",
    "    return not float(stats['coverage reached'][:-1]) == 0"
   ]
  },
  {
   "cell_type": "code",
   "execution_count": 7,
   "id": "fb8e5997-ac62-4ec2-b1b8-f7f5f408057b",
   "metadata": {},
   "outputs": [
    {
     "name": "stdout",
     "output_type": "stream",
     "text": [
      "README.md    harness.c\t\t       popseed\n",
      "__pycache__  harness.py\t\t       prompt.py\n",
      "error.log    harness_generation.ipynb  seed\n",
      "evaluation   harnesslib_mul.c\t       utils.py\n",
      "file.c\t     llm.py\t\t       working_selfcontained_harness.c\n"
     ]
    }
   ],
   "source": [
    "!ls"
   ]
  },
  {
   "cell_type": "code",
   "execution_count": 8,
   "id": "b2103011-0ee4-40d7-9606-72c4bb3ca0fc",
   "metadata": {},
   "outputs": [],
   "source": [
    "# has_coverage(CONFIG)"
   ]
  },
  {
   "cell_type": "code",
   "execution_count": 11,
   "id": "cb42d235-ee2d-4ba4-b49b-cae478da3fbb",
   "metadata": {
    "editable": true,
    "slideshow": {
     "slide_type": ""
    },
    "tags": []
   },
   "outputs": [],
   "source": [
    "# GENERATE HARNESS\n",
    "def generate_harness(new_dir, compile_command, CONFIG):\n",
    "    \n",
    "    os.chdir(original_directory)\n",
    "    os.chdir(original_directory + new_dir)\n",
    "    \n",
    "    tentatives = 10\n",
    "    initial_prompt = generate_initial_prompt(CONFIG)\n",
    "    first_answer = get_answer(initial_prompt)\n",
    "    extract_and_save_harness(first_answer, CONFIG['harness'])\n",
    "    prev_prompt = initial_prompt\n",
    "    prev_res = first_answer\n",
    "\n",
    "    while tentatives:\n",
    "        print(f\"{tentatives=}\")\n",
    "        tentatives = tentatives -1\n",
    "        # checking that harness is compilable\n",
    "        compile_res = compile(compile_command)\n",
    "        if compile_res[0]:\n",
    "        # checking that does not crash on seed\n",
    "            run_res = run_seed(CONFIG)\n",
    "            if run_res[0]:\n",
    "                # checking that there is some coverage\n",
    "                if has_coverage(CONFIG):\n",
    "                    break\n",
    "                else:\n",
    "                    prev_prompt = followup_prompt(prev_prompt, prev_res[0]['generated_text'], \"When running afl-fuzz over the generated code, the Coverage reached value is 0%. It probably means that the input from the fuzzer is not correclty passed to the fuzzed function. Can you regenerate the code to fiX this issue?\\n\")\n",
    "                    prev_res = get_answer(prev_prompt)\n",
    "                    extract_and_save_harness(prev_res, CONFIG['harness'])\n",
    "            else:\n",
    "                print(f\"{run_res[1]=}\")\n",
    "                prev_prompt = followup_prompt(prev_prompt, prev_res[0]['generated_text'], \"The generated code when run with input AAAA is crashing with this error\\n\" + run_res[1] + '\\ncan you regenerate the previous code to fix the issue?')\n",
    "                prev_res = get_answer(prev_prompt)\n",
    "                extract_and_save_harness(prev_res, CONFIG['harness'])\n",
    "        else:\n",
    "            print(f\"{compile_res[1]=}\")\n",
    "            prev_prompt = followup_prompt(prev_prompt, prev_res[0]['generated_text'], \"can you regenerate the previous code to fix the following compilation error:\\n\" + compile_res[1])\n",
    "            prev_res = get_answer(prev_prompt)\n",
    "            extract_and_save_harness(prev_res, CONFIG['harness'])\n",
    "            # break\n",
    "    print(\"New harness saved in\" + original_directory + '/evaluation/simple_lib/src/' + CONFIG['harness'])\n",
    "    os.chdir(original_directory)"
   ]
  },
  {
   "cell_type": "code",
   "execution_count": 15,
   "id": "ae8eebe2-1938-42f7-b573-36182741aa79",
   "metadata": {
    "editable": true,
    "slideshow": {
     "slide_type": ""
    },
    "tags": []
   },
   "outputs": [
    {
     "name": "stdout",
     "output_type": "stream",
     "text": [
      "  ```c\n",
      "    #include <stdint.h>\n",
      "    #include <stdlib.h>\n",
      "    #include \"library.h\"\n",
      "    \n",
      "    int LLVMFuzzerTestOneInput(const uint8_t *Data, size_t Size) {\n",
      "        int x = *(int*)Data;\n",
      "        int y = *(int*)(Data + sizeof(int));\n",
      "        lib_mul(x, y);\n",
      "        return 0;\n",
      "    }\n",
      "    ```\n",
      "tentatives=10\n",
      "checking that harness is compilable\n",
      "compile_command=['afl-gcc-fast', '-fsanitize=fuzzer', 'harness_lib_mul.c', 'library.c', '-o', 'harness_lib_mul']\n",
      "Compilation successful.\n",
      "checking that does not crash on seed\n",
      "checking that there is some coverage (Running the fuzzer for 5) seconds\n",
      "2024-04-19 07:05:47.850992\n",
      "2024-04-19 07:05:53.022405\n",
      "0.01\n",
      "New harness saved in/home/sagemaker-user/harnessgeneration/evaluation/simple_lib/src/harness_lib_mul.c\n"
     ]
    }
   ],
   "source": [
    "config_file= \"/home/sagemaker-user/harnessgeneration/evaluation/simple_lib/lib_mul.yaml\"\n",
    "CONFIG = load_config(config_file)\n",
    "new_dir = '/evaluation/simple_lib/src/'\n",
    "compile_command = ['afl-gcc-fast', '-fsanitize=fuzzer', CONFIG['harness'], 'library.c', '-o', CONFIG['harness_bin']]\n",
    "generate_harness(new_dir, compile_command, CONFIG)"
   ]
  },
  {
   "cell_type": "code",
   "execution_count": 16,
   "id": "e75440f5-b872-4e21-9ad4-38f45eb3cd0e",
   "metadata": {
    "editable": true,
    "slideshow": {
     "slide_type": ""
    },
    "tags": []
   },
   "outputs": [
    {
     "name": "stdout",
     "output_type": "stream",
     "text": [
      "  ```\n",
      "    #include <stdint.h>\n",
      "    #include <stdlib.h>\n",
      "    #include \"library.h\"\n",
      "    \n",
      "    int LLVMFuzzerTestOneInput(const uint8_t *Data, size_t Size) {\n",
      "        char *data = (char *)Data;\n",
      "        lib_echo(data, Size);\n",
      "        return 0;\n",
      "    }\n",
      "    ```\n",
      "tentatives=10\n",
      "checking that harness is compilable\n",
      "compile_command=['afl-gcc-fast', '-fsanitize=fuzzer', 'harness_lib_echo.c', 'library.c', '-o', 'harness_lib_echo']\n",
      "Compilation successful.\n",
      "checking that does not crash on seed\n",
      "checking that there is some coverage (Running the fuzzer for 5) seconds\n",
      "2024-04-19 07:05:55.883621\n",
      "2024-04-19 07:06:01.038587\n",
      "0.02\n",
      "New harness saved in/home/sagemaker-user/harnessgeneration/evaluation/simple_lib/src/harness_lib_echo.c\n"
     ]
    }
   ],
   "source": [
    "config_file= \"/home/sagemaker-user/harnessgeneration/evaluation/simple_lib/lib_echo.yaml\"\n",
    "CONFIG = load_config(config_file)\n",
    "new_dir = '/evaluation/simple_lib/src/'\n",
    "compile_command = ['afl-gcc-fast', '-fsanitize=fuzzer', CONFIG['harness'], 'library.c', '-o', CONFIG['harness_bin']]\n",
    "generate_harness(new_dir, compile_command, CONFIG)"
   ]
  },
  {
   "cell_type": "code",
   "execution_count": 71,
   "id": "ab7cf74d-4216-494f-8a4f-6215cb080dc2",
   "metadata": {
    "editable": true,
    "slideshow": {
     "slide_type": ""
    },
    "tags": []
   },
   "outputs": [],
   "source": [
    "c_files = find_files(\"/home/sagemaker-user/fuzzer-test-suite/c-ares-CVE-2016-5180/SRC\", '.c')\n",
    "h_files = find_files(\"/home/sagemaker-user/fuzzer-test-suite/c-ares-CVE-2016-5180/SRC\", '.h')"
   ]
  },
  {
   "cell_type": "code",
   "execution_count": null,
   "id": "8eeab9c2-4b91-4870-ac45-49f1f80a838a",
   "metadata": {},
   "outputs": [],
   "source": []
  }
 ],
 "metadata": {
  "kernelspec": {
   "display_name": "Python 3 (ipykernel)",
   "language": "python",
   "name": "python3"
  },
  "language_info": {
   "codemirror_mode": {
    "name": "ipython",
    "version": 3
   },
   "file_extension": ".py",
   "mimetype": "text/x-python",
   "name": "python",
   "nbconvert_exporter": "python",
   "pygments_lexer": "ipython3",
   "version": "3.10.14"
  }
 },
 "nbformat": 4,
 "nbformat_minor": 5
}
