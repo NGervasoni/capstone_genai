{
 "cells": [
  {
   "cell_type": "code",
   "execution_count": 1,
   "id": "cf62c9d2-40fc-49d2-8d98-842301d63284",
   "metadata": {
    "editable": true,
    "slideshow": {
     "slide_type": ""
    },
    "tags": []
   },
   "outputs": [
    {
     "name": "stdout",
     "output_type": "stream",
     "text": [
      "sagemaker.config INFO - Not applying SDK defaults from location: /etc/xdg/sagemaker/config.yaml\n",
      "sagemaker.config INFO - Not applying SDK defaults from location: /home/sagemaker-user/.config/sagemaker/config.yaml\n"
     ]
    }
   ],
   "source": [
    "from utils import load_config\n",
    "from llm import *\n",
    "from prompt import *\n",
    "from harness import *\n",
    "import os\n",
    "original_directory = os.getcwd()"
   ]
  },
  {
   "cell_type": "code",
   "execution_count": 2,
   "id": "eeb15a50-7d1c-4a25-81d9-b9d896c9cefc",
   "metadata": {
    "editable": true,
    "slideshow": {
     "slide_type": ""
    },
    "tags": []
   },
   "outputs": [],
   "source": [
    "import subprocess\n",
    "import time\n",
    "from datetime import datetime\n",
    "def has_coverage(config):\n",
    "    seconds_to_wait = 5\n",
    "    print(f'checking that there is some coverage (Running the fuzzer for {seconds_to_wait}) seconds')\n",
    "    # print(datetime.now())\n",
    "    # r = subprocess.Popen(['afl-fuzz', '-i', 'seed', '-o', 'out', '--', f'./{HARNESS_BIN}'], stdout=subprocess.PIPE, stderr=subprocess.PIPE, text=True)\n",
    "    # time.sleep(seconds_to_wait)\n",
    "    # r.terminate()\n",
    "    # try:\n",
    "    #     r.wait(timeout=2)  # Give some time to clean up resources\n",
    "    # except subprocess.TimeoutExpired:\n",
    "    #     r.kill()  # Force kill if it's still not terminating\n",
    "    # print(datetime.now())\n",
    "    print(datetime.now())\n",
    "    \n",
    "    cmd = f\"timeout {seconds_to_wait}s afl-fuzz -i {config['seeds']} -o out -- ./{config['harness_bin']} > /dev/null\"\n",
    "    get_ipython().system(cmd)\n",
    "    # !timeout 5s afl-fuzz -i config['seeds'] -o out -- config['harness_bin'] #> /dev/null\n",
    "    # time.sleep(seconds_to_wait)\n",
    "    print(datetime.now())\n",
    "    \n",
    "    result = subprocess.run(['afl-whatsup', 'out/'], stdout=subprocess.PIPE, stderr=subprocess.PIPE, text=True)\n",
    "    stats = extract_summary_stats(result.stdout)\n",
    "    print(f\"{stats['coverage reached'][:-1]}\")\n",
    "    if float(stats['coverage reached'][:-1]) == 0:\n",
    "        print('Trying to fuzz for 60 seconds')\n",
    "        seconds_to_wait = 60\n",
    "        cmd = f\"timeout {seconds_to_wait}s afl-fuzz -i {config['seeds']} -o out -- ./{config['harness_bin']} > /dev/null\"\n",
    "        get_ipython().system(cmd)\n",
    "        # !timeout 60s afl-fuzz -i seed -o out -- ./harness > /dev/null\n",
    "        result = subprocess.run(['afl-whatsup', 'out/'], stdout=subprocess.PIPE, stderr=subprocess.PIPE, text=True)\n",
    "        stats = extract_summary_stats(result.stdout)\n",
    "        print(f\"{stats['coverage reached'][:-1]}=\")\n",
    "    return not float(stats['coverage reached'][:-1]) == 0"
   ]
  },
  {
   "cell_type": "code",
   "execution_count": 3,
   "id": "9c63f73f-f8b2-44d9-9073-3db753deba6d",
   "metadata": {
    "editable": true,
    "slideshow": {
     "slide_type": ""
    },
    "tags": []
   },
   "outputs": [],
   "source": [
    "# GENERATE HARNESS\n",
    "def generate_harness(new_dir, compile_command, CONFIG):\n",
    "    \n",
    "    os.chdir(original_directory)\n",
    "    os.chdir(original_directory + new_dir)\n",
    "    \n",
    "    tentatives = 10\n",
    "    initial_prompt = generate_initial_prompt(CONFIG)\n",
    "    first_answer = get_answer(initial_prompt)\n",
    "    extract_and_save_harness(first_answer, CONFIG['harness'])\n",
    "    prev_prompt = initial_prompt\n",
    "    prev_res = first_answer\n",
    "\n",
    "    while tentatives:\n",
    "        print(f\"{tentatives=}\")\n",
    "        tentatives = tentatives -1\n",
    "        # checking that harness is compilable\n",
    "        compile_res = compile(compile_command)\n",
    "        if compile_res[0]:\n",
    "        # checking that does not crash on seed\n",
    "            run_res = run_seed(CONFIG)\n",
    "            if run_res[0]:\n",
    "                # checking that there is some coverage\n",
    "                if has_coverage(CONFIG):\n",
    "                    break\n",
    "                else:\n",
    "                    prev_prompt = followup_prompt(prev_prompt, prev_res[0]['generated_text'], \"When running afl-fuzz over the generated code, the Coverage reached value is 0%. It probably means that the input from the fuzzer is not correclty passed to the fuzzed function. Can you regenerate the code to fiX this issue?\\n\")\n",
    "                    prev_res = get_answer(prev_prompt)\n",
    "                    extract_and_save_harness(prev_res, CONFIG['harness'])\n",
    "            else:\n",
    "                print(f\"{run_res[1]=}\")\n",
    "                prev_prompt = followup_prompt(prev_prompt, prev_res[0]['generated_text'], \"The generated code when run with input AAAA is crashing with this error\\n\" + run_res[1] + '\\ncan you regenerate the previous code to fix the issue?')\n",
    "                prev_res = get_answer(prev_prompt)\n",
    "                extract_and_save_harness(prev_res, CONFIG['harness'])\n",
    "        else:\n",
    "            print(f\"{compile_res[1]=}\")\n",
    "            prev_prompt = followup_prompt(prev_prompt, prev_res[0]['generated_text'], \"can you regenerate the previous code to fix the following compilation error:\\n\" + compile_res[1])\n",
    "            prev_res = get_answer(prev_prompt)\n",
    "            extract_and_save_harness(prev_res, CONFIG['harness'])\n",
    "            # break\n",
    "    print(\"New harness saved in\" + original_directory + '/evaluation/simple_lib/src/' + CONFIG['harness'])\n",
    "    os.chdir(original_directory)"
   ]
  },
  {
   "cell_type": "markdown",
   "id": "550b602f-b1e9-4356-983a-5f0557be01c6",
   "metadata": {},
   "source": [
    "# Simple_lib"
   ]
  },
  {
   "cell_type": "markdown",
   "id": "8ee3f8b3-151f-4498-9704-7e3c7c540346",
   "metadata": {},
   "source": [
    "## lib_mul"
   ]
  },
  {
   "cell_type": "code",
   "execution_count": 4,
   "id": "42dc8b24-4ae5-4036-9ead-1a72f84fb123",
   "metadata": {},
   "outputs": [
    {
     "name": "stdout",
     "output_type": "stream",
     "text": [
      "  ```\n",
      "    #include \"library.h\"\n",
      "    #include <stdint.h>\n",
      "    \n",
      "    int LLVMFuzzerTestOneInput(const uint8_t *Data, size_t Size) {\n",
      "      int x = *(int*)Data;\n",
      "      int y = *(int*)(Data + sizeof(int));\n",
      "      lib_mul(x, y);\n",
      "      return 0;\n",
      "    }\n",
      "    ```\n",
      "tentatives=10\n",
      "checking that harness is compilable\n",
      "compile_command=['afl-gcc-fast', '-fsanitize=fuzzer', 'harness_lib_mul.c', 'library.c', '-o', 'harness_lib_mul']\n",
      "Compilation successful.\n",
      "checking that does not crash on seed\n",
      "checking that there is some coverage (Running the fuzzer for 5) seconds\n",
      "2024-04-20 06:28:18.891008\n",
      "2024-04-20 06:28:24.073056\n",
      "0.01\n",
      "New harness saved in/home/sagemaker-user/harnessgeneration/evaluation/simple_lib/src/harness_lib_mul.c\n"
     ]
    }
   ],
   "source": [
    "config_file= \"/home/sagemaker-user/harnessgeneration/evaluation/simple_lib/lib_mul.yaml\"\n",
    "CONFIG = load_config(config_file)\n",
    "new_dir = '/evaluation/simple_lib/src/'\n",
    "compile_command = ['afl-gcc-fast', '-fsanitize=fuzzer', CONFIG['harness'], 'library.c', '-o', CONFIG['harness_bin']]\n",
    "generate_harness(new_dir, compile_command, CONFIG)"
   ]
  },
  {
   "cell_type": "markdown",
   "id": "81474440-5fc9-441f-9338-4261a68514c4",
   "metadata": {},
   "source": [
    "## lib_echo"
   ]
  },
  {
   "cell_type": "code",
   "execution_count": null,
   "id": "a2f919fd-dda9-4974-873a-97ea0d04a6a1",
   "metadata": {
    "editable": true,
    "slideshow": {
     "slide_type": ""
    },
    "tags": []
   },
   "outputs": [],
   "source": [
    "config_file= \"/home/sagemaker-user/harnessgeneration/evaluation/simple_lib/lib_echo.yaml\"\n",
    "CONFIG = load_config(config_file)\n",
    "new_dir = '/evaluation/simple_lib/src/'\n",
    "compile_command = ['afl-gcc-fast', '-fsanitize=fuzzer', CONFIG['harness'], 'library.c', '-o', CONFIG['harness_bin']]\n",
    "generate_harness(new_dir, compile_command, CONFIG)"
   ]
  },
  {
   "cell_type": "markdown",
   "id": "cf8cbee9-bb10-4db3-b418-5066954990a2",
   "metadata": {},
   "source": [
    "# Libxml2"
   ]
  },
  {
   "cell_type": "code",
   "execution_count": null,
   "id": "fc68e02e-70c1-45f5-be54-03fedd927161",
   "metadata": {},
   "outputs": [],
   "source": [
    "config_file= \"/home/sagemaker-user/harnessgeneration/evaluation/new-libxml2/xmlReadFile.yaml\"\n",
    "CONFIG = load_config(config_file)\n",
    "new_dir = '/evaluation/new-libxml2/'\n",
    "compile_command = CONFIG['compile_command'].split()\n",
    "generate_harness(new_dir, compile_command, CONFIG)"
   ]
  }
 ],
 "metadata": {
  "kernelspec": {
   "display_name": "Python 3 (ipykernel)",
   "language": "python",
   "name": "python3"
  },
  "language_info": {
   "codemirror_mode": {
    "name": "ipython",
    "version": 3
   },
   "file_extension": ".py",
   "mimetype": "text/x-python",
   "name": "python",
   "nbconvert_exporter": "python",
   "pygments_lexer": "ipython3",
   "version": "3.10.14"
  }
 },
 "nbformat": 4,
 "nbformat_minor": 5
}
